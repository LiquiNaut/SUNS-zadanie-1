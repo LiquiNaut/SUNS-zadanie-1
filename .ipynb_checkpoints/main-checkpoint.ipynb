{
 "cells": [
  {
   "cell_type": "code",
   "execution_count": 1,
   "id": "initial_id",
   "metadata": {
    "collapsed": true,
    "ExecuteTime": {
     "end_time": "2023-11-06T16:30:04.032733879Z",
     "start_time": "2023-11-06T16:30:02.457990457Z"
    }
   },
   "outputs": [],
   "source": [
    "import dask.dataframe as dd"
   ]
  },
  {
   "cell_type": "code",
   "execution_count": 2,
   "outputs": [],
   "source": [
    "# Definujte cestu k CSV súboru s datasetom Iris\n",
    "songs_dataset = \"zadanie1_dataset.csv\"\n",
    "\n",
    "# Načítajte dataset s použitím Dask\n",
    "df = dd.read_csv(songs_dataset)"
   ],
   "metadata": {
    "collapsed": false,
    "ExecuteTime": {
     "end_time": "2023-11-06T16:30:07.890194615Z",
     "start_time": "2023-11-06T16:30:07.793871589Z"
    }
   },
   "id": "bd1bb817ccbc8638"
  },
  {
   "cell_type": "code",
   "execution_count": null,
   "outputs": [],
   "source": [
    "# Teraz môžete pracovať s dátami pomocou Dask operácií, napríklad zobraziť prvých 5 riadkov\n",
    "print(df.head())"
   ],
   "metadata": {
    "collapsed": false
   },
   "id": "84c4e0e6fd2ec6b6"
  },
  {
   "cell_type": "code",
   "execution_count": null,
   "outputs": [],
   "source": [
    "# Zobrazte štatistiku pre všetky stĺpce\n",
    "print(df.describe())"
   ],
   "metadata": {
    "collapsed": false
   },
   "id": "9a218b0da801bea3"
  }
 ],
 "metadata": {
  "kernelspec": {
   "display_name": "Python 3",
   "language": "python",
   "name": "python3"
  },
  "language_info": {
   "codemirror_mode": {
    "name": "ipython",
    "version": 2
   },
   "file_extension": ".py",
   "mimetype": "text/x-python",
   "name": "python",
   "nbconvert_exporter": "python",
   "pygments_lexer": "ipython2",
   "version": "2.7.6"
  }
 },
 "nbformat": 4,
 "nbformat_minor": 5
}
