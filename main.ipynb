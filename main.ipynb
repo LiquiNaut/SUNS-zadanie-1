{
 "cells": [
  {
   "cell_type": "code",
   "execution_count": 8,
   "id": "initial_id",
   "metadata": {
    "ExecuteTime": {
     "end_time": "2023-11-07T10:39:02.224339759Z",
     "start_time": "2023-11-07T10:39:02.169367553Z"
    }
   },
   "outputs": [],
   "source": [
    "import pandas as pd"
   ]
  },
  {
   "cell_type": "code",
   "execution_count": 9,
   "id": "f3e6bd29fc2c8fa9",
   "metadata": {
    "collapsed": false,
    "ExecuteTime": {
     "end_time": "2023-11-07T10:39:02.290688435Z",
     "start_time": "2023-11-07T10:39:02.218528593Z"
    }
   },
   "outputs": [],
   "source": [
    "import seaborn as sns"
   ]
  },
  {
   "cell_type": "code",
   "execution_count": 10,
   "outputs": [],
   "source": [
    "from sklearn.model_selection import train_test_split"
   ],
   "metadata": {
    "collapsed": false,
    "ExecuteTime": {
     "end_time": "2023-11-07T10:39:02.486663728Z",
     "start_time": "2023-11-07T10:39:02.449175663Z"
    }
   },
   "id": "5ef858a0bafd2d92"
  },
  {
   "cell_type": "code",
   "execution_count": 11,
   "outputs": [],
   "source": [
    "from sklearn.preprocessing import MinMaxScaler"
   ],
   "metadata": {
    "collapsed": false,
    "ExecuteTime": {
     "end_time": "2023-11-07T10:39:02.676265025Z",
     "start_time": "2023-11-07T10:39:02.587271967Z"
    }
   },
   "id": "d7ff01e8711eac1"
  },
  {
   "cell_type": "code",
   "execution_count": 12,
   "outputs": [],
   "source": [
    "from sklearn.neural_network import MLPClassifier"
   ],
   "metadata": {
    "collapsed": false,
    "ExecuteTime": {
     "end_time": "2023-11-07T10:39:02.841601261Z",
     "start_time": "2023-11-07T10:39:02.808909894Z"
    }
   },
   "id": "58bbaebde7b77303"
  },
  {
   "cell_type": "code",
   "execution_count": 13,
   "id": "bd1bb817ccbc8638",
   "metadata": {
    "collapsed": false,
    "ExecuteTime": {
     "end_time": "2023-11-07T10:39:03.068052815Z",
     "start_time": "2023-11-07T10:39:03.000734395Z"
    }
   },
   "outputs": [],
   "source": [
    "# Definujte cestu k CSV súboru s datasetom Iris\n",
    "songs_dataset = \"zadanie1_dataset_number_only.csv\"\n",
    "\n",
    "# Načítajte dataset s použitím Pandas\n",
    "df = pd.read_csv(songs_dataset)"
   ]
  },
  {
   "cell_type": "code",
   "execution_count": 14,
   "id": "e8adaff7d768e0af",
   "metadata": {
    "collapsed": false,
    "ExecuteTime": {
     "end_time": "2023-11-07T10:39:03.956890997Z",
     "start_time": "2023-11-07T10:39:03.904714782Z"
    }
   },
   "outputs": [
    {
     "data": {
      "text/plain": "Index(['danceability', 'energy', 'loudness', 'speechiness', 'acousticness',\n       'instrumentalness', 'liveness', 'valence', 'tempo', 'duration_ms',\n       'popularity', 'number_of_artists'],\n      dtype='object')"
     },
     "execution_count": 14,
     "metadata": {},
     "output_type": "execute_result"
    }
   ],
   "source": [
    "df.columns"
   ]
  },
  {
   "cell_type": "code",
   "execution_count": 15,
   "id": "89c3df08825ae45",
   "metadata": {
    "collapsed": false,
    "ExecuteTime": {
     "end_time": "2023-11-07T10:39:04.705773514Z",
     "start_time": "2023-11-07T10:39:04.591861429Z"
    }
   },
   "outputs": [
    {
     "data": {
      "text/plain": "danceability         float64\nenergy               float64\nloudness             float64\nspeechiness          float64\nacousticness         float64\ninstrumentalness     float64\nliveness             float64\nvalence              float64\ntempo                float64\nduration_ms          float64\npopularity           float64\nnumber_of_artists    float64\ndtype: object"
     },
     "execution_count": 15,
     "metadata": {},
     "output_type": "execute_result"
    }
   ],
   "source": [
    "df.dtypes"
   ]
  },
  {
   "cell_type": "code",
   "execution_count": 16,
   "id": "2166a3bd6a7dc094",
   "metadata": {
    "collapsed": false,
    "ExecuteTime": {
     "end_time": "2023-11-07T10:39:05.910906485Z",
     "start_time": "2023-11-07T10:39:05.815807532Z"
    }
   },
   "outputs": [
    {
     "data": {
      "text/plain": "       danceability        energy      loudness   speechiness  acousticness  \\\ncount  11960.000000  11960.000000  11960.000000  11960.000000  11960.000000   \nmean       0.479550      0.529783    -12.372094      0.104329      0.483605   \nstd        0.273845      0.333071      8.265012      0.191664      0.404506   \nmin        0.000000      0.000197    -47.046000      0.000000      0.000000   \n25%        0.338000      0.186000    -17.865000      0.037300      0.036500   \n50%        0.485000      0.595000     -9.537000      0.045900      0.468000   \n75%        0.608000      0.841000     -5.834000      0.070100      0.923000   \nmax        8.375000      1.000000      1.519000      0.965000      0.996000   \n\n       instrumentalness      liveness       valence         tempo  \\\ncount      11960.000000  11960.000000  11960.000000  11960.000000   \nmean           0.264986      0.224383      0.461312    117.749858   \nstd            0.377885      0.212392      0.276219     32.029332   \nmin            0.000000      0.009670      0.000000      0.000000   \n25%            0.000003      0.095800      0.221000     92.775250   \n50%            0.002670      0.130000      0.461000    116.153500   \n75%            0.678250      0.280000      0.688250    137.525250   \nmax            0.994000      0.997000      0.995000    241.423000   \n\n        duration_ms    popularity  number_of_artists  \ncount  1.196000e+04  11843.000000       11839.000000  \nmean   1.094073e+06     25.131892           1.714756  \nstd    3.321775e+07     21.072017           1.276377  \nmin   -4.273460e+05      0.000000           1.000000  \n25%    1.692098e+05      3.000000           1.000000  \n50%    2.134530e+05     24.000000           1.000000  \n75%    2.739330e+05     42.000000           2.000000  \nmax    1.930821e+09     82.000000          19.000000  ",
      "text/html": "<div>\n<style scoped>\n    .dataframe tbody tr th:only-of-type {\n        vertical-align: middle;\n    }\n\n    .dataframe tbody tr th {\n        vertical-align: top;\n    }\n\n    .dataframe thead th {\n        text-align: right;\n    }\n</style>\n<table border=\"1\" class=\"dataframe\">\n  <thead>\n    <tr style=\"text-align: right;\">\n      <th></th>\n      <th>danceability</th>\n      <th>energy</th>\n      <th>loudness</th>\n      <th>speechiness</th>\n      <th>acousticness</th>\n      <th>instrumentalness</th>\n      <th>liveness</th>\n      <th>valence</th>\n      <th>tempo</th>\n      <th>duration_ms</th>\n      <th>popularity</th>\n      <th>number_of_artists</th>\n    </tr>\n  </thead>\n  <tbody>\n    <tr>\n      <th>count</th>\n      <td>11960.000000</td>\n      <td>11960.000000</td>\n      <td>11960.000000</td>\n      <td>11960.000000</td>\n      <td>11960.000000</td>\n      <td>11960.000000</td>\n      <td>11960.000000</td>\n      <td>11960.000000</td>\n      <td>11960.000000</td>\n      <td>1.196000e+04</td>\n      <td>11843.000000</td>\n      <td>11839.000000</td>\n    </tr>\n    <tr>\n      <th>mean</th>\n      <td>0.479550</td>\n      <td>0.529783</td>\n      <td>-12.372094</td>\n      <td>0.104329</td>\n      <td>0.483605</td>\n      <td>0.264986</td>\n      <td>0.224383</td>\n      <td>0.461312</td>\n      <td>117.749858</td>\n      <td>1.094073e+06</td>\n      <td>25.131892</td>\n      <td>1.714756</td>\n    </tr>\n    <tr>\n      <th>std</th>\n      <td>0.273845</td>\n      <td>0.333071</td>\n      <td>8.265012</td>\n      <td>0.191664</td>\n      <td>0.404506</td>\n      <td>0.377885</td>\n      <td>0.212392</td>\n      <td>0.276219</td>\n      <td>32.029332</td>\n      <td>3.321775e+07</td>\n      <td>21.072017</td>\n      <td>1.276377</td>\n    </tr>\n    <tr>\n      <th>min</th>\n      <td>0.000000</td>\n      <td>0.000197</td>\n      <td>-47.046000</td>\n      <td>0.000000</td>\n      <td>0.000000</td>\n      <td>0.000000</td>\n      <td>0.009670</td>\n      <td>0.000000</td>\n      <td>0.000000</td>\n      <td>-4.273460e+05</td>\n      <td>0.000000</td>\n      <td>1.000000</td>\n    </tr>\n    <tr>\n      <th>25%</th>\n      <td>0.338000</td>\n      <td>0.186000</td>\n      <td>-17.865000</td>\n      <td>0.037300</td>\n      <td>0.036500</td>\n      <td>0.000003</td>\n      <td>0.095800</td>\n      <td>0.221000</td>\n      <td>92.775250</td>\n      <td>1.692098e+05</td>\n      <td>3.000000</td>\n      <td>1.000000</td>\n    </tr>\n    <tr>\n      <th>50%</th>\n      <td>0.485000</td>\n      <td>0.595000</td>\n      <td>-9.537000</td>\n      <td>0.045900</td>\n      <td>0.468000</td>\n      <td>0.002670</td>\n      <td>0.130000</td>\n      <td>0.461000</td>\n      <td>116.153500</td>\n      <td>2.134530e+05</td>\n      <td>24.000000</td>\n      <td>1.000000</td>\n    </tr>\n    <tr>\n      <th>75%</th>\n      <td>0.608000</td>\n      <td>0.841000</td>\n      <td>-5.834000</td>\n      <td>0.070100</td>\n      <td>0.923000</td>\n      <td>0.678250</td>\n      <td>0.280000</td>\n      <td>0.688250</td>\n      <td>137.525250</td>\n      <td>2.739330e+05</td>\n      <td>42.000000</td>\n      <td>2.000000</td>\n    </tr>\n    <tr>\n      <th>max</th>\n      <td>8.375000</td>\n      <td>1.000000</td>\n      <td>1.519000</td>\n      <td>0.965000</td>\n      <td>0.996000</td>\n      <td>0.994000</td>\n      <td>0.997000</td>\n      <td>0.995000</td>\n      <td>241.423000</td>\n      <td>1.930821e+09</td>\n      <td>82.000000</td>\n      <td>19.000000</td>\n    </tr>\n  </tbody>\n</table>\n</div>"
     },
     "execution_count": 16,
     "metadata": {},
     "output_type": "execute_result"
    }
   ],
   "source": [
    "df.describe()"
   ]
  },
  {
   "cell_type": "code",
   "execution_count": 17,
   "id": "6e2205eee62a9e7",
   "metadata": {
    "collapsed": false,
    "ExecuteTime": {
     "end_time": "2023-11-07T10:39:07.904986901Z",
     "start_time": "2023-11-07T10:39:07.078593498Z"
    }
   },
   "outputs": [
    {
     "data": {
      "text/plain": "<seaborn.axisgrid.FacetGrid at 0x7f41f68cfd30>"
     },
     "execution_count": 17,
     "metadata": {},
     "output_type": "execute_result"
    },
    {
     "data": {
      "text/plain": "<Figure size 500x500 with 1 Axes>",
      "image/png": "[encoded data removed]"
     },
     "metadata": {},
     "output_type": "display_data"
    }
   ],
   "source": [
    "sns.displot(df['danceability'])"
   ]
  },
  {
   "cell_type": "code",
   "execution_count": 18,
   "id": "206bf24d-9649-4d3c-87e5-bce8523b0443",
   "metadata": {
    "ExecuteTime": {
     "end_time": "2023-11-07T10:39:09.167034980Z",
     "start_time": "2023-11-07T10:39:08.643329444Z"
    }
   },
   "outputs": [
    {
     "data": {
      "text/plain": "<Axes: ylabel='danceability'>"
     },
     "execution_count": 18,
     "metadata": {},
     "output_type": "execute_result"
    },
    {
     "data": {
      "text/plain": "<Figure size 640x480 with 1 Axes>",
      "image/png": "[encoded data removed]"
     },
     "metadata": {},
     "output_type": "display_data"
    }
   ],
   "source": [
    "sns.boxplot(df['danceability'])"
   ]
  },
  {
   "cell_type": "code",
   "execution_count": 19,
   "id": "b00871a97cf6432f",
   "metadata": {
    "collapsed": false,
    "ExecuteTime": {
     "end_time": "2023-11-07T10:39:10.084782564Z",
     "start_time": "2023-11-07T10:39:10.072985132Z"
    }
   },
   "outputs": [],
   "source": [
    "# Funkcia na odstránenie outlierov pomocou IQR pre všetky stĺpce\n",
    "def remove_outliers_iqr(dataframe):\n",
    "    # Vytvorenie prazdnej DataFrame pre výsledky\n",
    "    df_cleaned = pd.DataFrame()\n",
    "    \n",
    "    # Iterovanie cez všetky stĺpce v datasete\n",
    "    for column in dataframe.columns:\n",
    "        Q1 = dataframe[column].quantile(0.25)\n",
    "        Q3 = dataframe[column].quantile(0.75)\n",
    "        IQR = Q3 - Q1\n",
    "        lower_bound = Q1 - 1.5 * IQR\n",
    "        upper_bound = Q3 + 1.5 * IQR\n",
    "        df_cleaned[column] = dataframe[(dataframe[column] >= lower_bound) & (dataframe[column] <= upper_bound)][column]\n",
    "    \n",
    "    return df_cleaned"
   ]
  },
  {
   "cell_type": "code",
   "execution_count": 20,
   "id": "b8d524ff261efb32",
   "metadata": {
    "collapsed": false,
    "ExecuteTime": {
     "end_time": "2023-11-07T10:39:11.275742996Z",
     "start_time": "2023-11-07T10:39:11.179291684Z"
    }
   },
   "outputs": [
    {
     "name": "stdout",
     "output_type": "stream",
     "text": [
      "before removing outliers: 11960\n",
      "after removing outliers: 11944\n",
      "outliers: 16\n",
      "Dataset bez outlierov:\n",
      "       danceability  energy  loudness  speechiness  acousticness  \\\n",
      "0             0.638   0.781    -6.848       0.0285        0.0118   \n",
      "1             0.744   0.816    -3.933       0.0372        0.1440   \n",
      "2             0.721   0.768    -4.371       0.0685        0.2100   \n",
      "3             0.700   0.782    -4.631       0.0542        0.4490   \n",
      "4             0.764   0.587    -7.002       0.0298        0.0721   \n",
      "...             ...     ...       ...          ...           ...   \n",
      "11955         0.442   0.379   -12.711       0.0264        0.9610   \n",
      "11956         0.485   0.226   -10.503       0.0278        0.9820   \n",
      "11957         0.741   0.338    -8.488       0.0432        0.9300   \n",
      "11958         0.493   0.773    -5.875       0.0452        0.4560   \n",
      "11959         0.702   0.792    -8.631       0.0325        0.3400   \n",
      "\n",
      "       instrumentalness  liveness  valence    tempo  duration_ms  popularity  \\\n",
      "0              0.009530    0.3490    0.250  122.985     194640.0        34.0   \n",
      "1              0.000009    0.0902    0.748  120.062     144000.0        52.0   \n",
      "2              0.008430    0.2620    0.468  124.076     179032.0        45.0   \n",
      "3              0.000000    0.1430    0.680  124.969     169901.0        46.0   \n",
      "4              0.000006    0.0940    0.494   89.980     229573.0        45.0   \n",
      "...                 ...       ...      ...      ...          ...         ...   \n",
      "11955          0.000567    0.2840    0.659   79.948     123733.0         0.0   \n",
      "11956          0.000000    0.0960    0.508  139.543     154160.0         0.0   \n",
      "11957          0.000001    0.1640    0.804  133.504     155626.0         0.0   \n",
      "11958          0.000003    0.1070    0.478  140.998     204640.0         0.0   \n",
      "11959          0.000081    0.1720    0.786  123.377     209400.0        40.0   \n",
      "\n",
      "       number_of_artists  \n",
      "0                    3.0  \n",
      "1                    3.0  \n",
      "2                    3.0  \n",
      "3                    3.0  \n",
      "4                    2.0  \n",
      "...                  ...  \n",
      "11955                1.0  \n",
      "11956                1.0  \n",
      "11957                1.0  \n",
      "11958                1.0  \n",
      "11959                1.0  \n",
      "\n",
      "[11944 rows x 12 columns]\n"
     ]
    }
   ],
   "source": [
    "# Zavolanie funkcie na odstránenie outlierov pre všetky stĺpce\n",
    "df_cleaned = remove_outliers_iqr(df)\n",
    "\n",
    "print('before removing outliers:', len(df))\n",
    "print('after removing outliers:',len(df_cleaned))\n",
    "print('outliers:', len(df)-len(df_cleaned))\n",
    "\n",
    "print(\"Dataset bez outlierov:\")\n",
    "print(df_cleaned)"
   ]
  },
  {
   "cell_type": "code",
   "execution_count": 21,
   "outputs": [
    {
     "data": {
      "text/plain": "danceability            0\nenergy                  0\nloudness               94\nspeechiness          1556\nacousticness            0\ninstrumentalness        0\nliveness             1130\nvalence                 0\ntempo                  41\nduration_ms           736\npopularity            116\nnumber_of_artists    1107\ndtype: int64"
     },
     "execution_count": 21,
     "metadata": {},
     "output_type": "execute_result"
    }
   ],
   "source": [
    "df_cleaned.isnull().sum()"
   ],
   "metadata": {
    "collapsed": false,
    "ExecuteTime": {
     "end_time": "2023-11-07T10:39:12.564437330Z",
     "start_time": "2023-11-07T10:39:12.549608264Z"
    }
   },
   "id": "16c0554edf777571"
  },
  {
   "cell_type": "code",
   "execution_count": 22,
   "outputs": [
    {
     "name": "stdout",
     "output_type": "stream",
     "text": [
      "Počet hodnôt pre jednotlivé stĺpce:\n",
      "Stĺpec 'danceability' obsahuje 11960 hodnôt.\n",
      "Stĺpec 'energy' obsahuje 11960 hodnôt.\n",
      "Stĺpec 'loudness' obsahuje 11960 hodnôt.\n",
      "Stĺpec 'speechiness' obsahuje 11960 hodnôt.\n",
      "Stĺpec 'acousticness' obsahuje 11960 hodnôt.\n",
      "Stĺpec 'instrumentalness' obsahuje 11960 hodnôt.\n",
      "Stĺpec 'liveness' obsahuje 11960 hodnôt.\n",
      "Stĺpec 'valence' obsahuje 11960 hodnôt.\n",
      "Stĺpec 'tempo' obsahuje 11960 hodnôt.\n",
      "Stĺpec 'duration_ms' obsahuje 11960 hodnôt.\n",
      "Stĺpec 'popularity' obsahuje 11843 hodnôt.\n",
      "Stĺpec 'number_of_artists' obsahuje 11839 hodnôt.\n"
     ]
    }
   ],
   "source": [
    "# Iterujte cez všetky stĺpce a získajte počet hodnôt pre každý stĺpec\n",
    "pocet_hodnot_pre_stlpce = {}\n",
    "for column in df.columns:\n",
    "    pocet_hodnot = df[column].count()\n",
    "    pocet_hodnot_pre_stlpce[column] = pocet_hodnot\n",
    "\n",
    "# Výsledky počtu hodnôt pre všetky stĺpce\n",
    "print(\"Počet hodnôt pre jednotlivé stĺpce:\")\n",
    "for column, pocet_hodnot in pocet_hodnot_pre_stlpce.items():\n",
    "    print(f\"Stĺpec '{column}' obsahuje {pocet_hodnot} hodnôt.\")"
   ],
   "metadata": {
    "collapsed": false,
    "ExecuteTime": {
     "end_time": "2023-11-07T10:39:14.583948381Z",
     "start_time": "2023-11-07T10:39:14.578122644Z"
    }
   },
   "id": "abcf7668bce480dd"
  },
  {
   "cell_type": "code",
   "execution_count": 23,
   "outputs": [
    {
     "name": "stdout",
     "output_type": "stream",
     "text": [
      "pocet NULL hodnot:  238\n"
     ]
    }
   ],
   "source": [
    "# Identifikácia chýbajúcich hodnôt v datasete\n",
    "print(\"pocet NULL hodnot: \",df.isnull().sum().sum())"
   ],
   "metadata": {
    "collapsed": false,
    "ExecuteTime": {
     "end_time": "2023-11-07T10:39:16.288328133Z",
     "start_time": "2023-11-07T10:39:16.260092853Z"
    }
   },
   "id": "19fa46f2f7fbe149"
  },
  {
   "cell_type": "code",
   "execution_count": 24,
   "outputs": [],
   "source": [
    "df_without_nulls = df.dropna(how='any')"
   ],
   "metadata": {
    "collapsed": false,
    "ExecuteTime": {
     "end_time": "2023-11-07T10:39:17.209902189Z",
     "start_time": "2023-11-07T10:39:17.196825957Z"
    }
   },
   "id": "a5a4cb061e5d2198"
  },
  {
   "cell_type": "code",
   "execution_count": 25,
   "outputs": [],
   "source": [
    "#spravit mazanie null hodnot zo stlpca podla tych 80percent "
   ],
   "metadata": {
    "collapsed": false,
    "ExecuteTime": {
     "end_time": "2023-11-07T10:39:18.644394623Z",
     "start_time": "2023-11-07T10:39:18.634625306Z"
    }
   },
   "id": "617a5cc5d6d5e262"
  },
  {
   "cell_type": "code",
   "execution_count": 26,
   "outputs": [
    {
     "name": "stdout",
     "output_type": "stream",
     "text": [
      "pocet NULL hodnot:  0\n"
     ]
    }
   ],
   "source": [
    "print(\"pocet NULL hodnot: \",df_without_nulls.isnull().sum().sum())"
   ],
   "metadata": {
    "collapsed": false,
    "ExecuteTime": {
     "end_time": "2023-11-07T10:39:19.963836902Z",
     "start_time": "2023-11-07T10:39:19.951372453Z"
    }
   },
   "id": "8664f53b15cc553c"
  },
  {
   "cell_type": "code",
   "execution_count": 27,
   "outputs": [],
   "source": [
    "#label encodeing pre emotion spravit "
   ],
   "metadata": {
    "collapsed": false,
    "ExecuteTime": {
     "end_time": "2023-11-07T10:39:54.602134606Z",
     "start_time": "2023-11-07T10:39:54.555337719Z"
    }
   },
   "id": "1df44c68e2190cec"
  },
  {
   "cell_type": "code",
   "execution_count": 43,
   "outputs": [],
   "source": [
    "# Rozdelenie dát do trénovacej (X_train, y_train), validačnej (X_val, y_val) a testovacej (X_test, y_test) množiny.\n",
    "# 'X' sú vstupné stĺpce a 'Y' je výstupný stĺpec.\n",
    "X = df_without_nulls[['danceability', 'energy', 'loudness', 'speechiness', 'acousticness', 'instrumentalness', 'liveness', 'valence', 'tempo', 'duration_ms']] #df.drop(emotion)\n",
    "y = df_without_nulls['popularity']# v x nesmie byt emotion, ale v y musi byt emotion, \n",
    "\n",
    "# Rozdelenie dát na trénovaciu, validačnú a testovaciu množinu (napr. 70-15-15%)\n",
    "X_train, X_temp, y_train, y_temp = train_test_split(X, y, test_size=0.3, random_state=42)\n",
    "X_val, X_test, y_val, y_test = train_test_split(X_temp, y_temp, test_size=0.5, random_state=42)"
   ],
   "metadata": {
    "collapsed": false,
    "ExecuteTime": {
     "end_time": "2023-11-07T10:53:48.210549669Z",
     "start_time": "2023-11-07T10:53:48.061162986Z"
    }
   },
   "id": "2078c834cb7bfe70"
  },
  {
   "cell_type": "code",
   "execution_count": 44,
   "outputs": [
    {
     "name": "stdout",
     "output_type": "stream",
     "text": [
      "Tvar trénovacej množiny X_train: (8205, 10)\n",
      "Tvar trénovacej množiny y_train: (8205,)\n",
      "Tvar validačnej množiny X_val: (1758, 10)\n",
      "Tvar validačnej množiny y_val: (1758,)\n",
      "Tvar testovacej množiny X_test: (1759, 10)\n",
      "Tvar testovacej množiny y_test: (1759,)\n"
     ]
    }
   ],
   "source": [
    "# Zobrazenie tvaru (počtu riadkov a stľpcov) trénovacej množiny\n",
    "print(\"Tvar trénovacej množiny X_train:\", X_train.shape)\n",
    "print(\"Tvar trénovacej množiny y_train:\", y_train.shape)\n",
    "\n",
    "# Zobrazenie tvaru validačnej množiny\n",
    "print(\"Tvar validačnej množiny X_val:\", X_val.shape)\n",
    "print(\"Tvar validačnej množiny y_val:\", y_val.shape)\n",
    "\n",
    "# Zobrazenie tvaru testovacej množiny\n",
    "print(\"Tvar testovacej množiny X_test:\", X_test.shape)\n",
    "print(\"Tvar testovacej množiny y_test:\", y_test.shape)"
   ],
   "metadata": {
    "collapsed": false,
    "ExecuteTime": {
     "end_time": "2023-11-07T10:53:49.580229185Z",
     "start_time": "2023-11-07T10:53:49.537739633Z"
    }
   },
   "id": "ded7a154b6d5ecca"
  },
  {
   "cell_type": "code",
   "execution_count": 45,
   "outputs": [],
   "source": [
    "# Vytvorenie a nastavenie scaleru na trénovacie dáta\n",
    "scaler = MinMaxScaler()\n",
    "scaler.fit(X_train)\n",
    "\n",
    "# Normalizácia trénovacích dát\n",
    "X_train_normalized = scaler.transform(X_train)\n",
    "\n",
    "# Použitie toho istého scaleru na validačné dáta a testovacie dáta\n",
    "X_val_normalized = scaler.transform(X_val)\n",
    "X_test_normalized = scaler.transform(X_test)"
   ],
   "metadata": {
    "collapsed": false,
    "ExecuteTime": {
     "end_time": "2023-11-07T10:53:54.351429127Z",
     "start_time": "2023-11-07T10:53:54.260562517Z"
    }
   },
   "id": "26e57d9fce689233"
  },
  {
   "cell_type": "code",
   "execution_count": 46,
   "outputs": [
    {
     "name": "stdout",
     "output_type": "stream",
     "text": [
      "[[6.00597015e-02 8.59916791e-01 8.05868424e-01 ... 7.47738693e-01\n",
      "  7.39229708e-01 3.89234826e-04]\n",
      " [3.59402985e-02 1.96522735e-01 6.00453001e-01 ... 6.15075377e-01\n",
      "  3.64744949e-01 3.17112554e-04]\n",
      " [4.31044776e-02 9.91995245e-01 9.13332647e-01 ... 3.21608040e-01\n",
      "  4.70451746e-01 4.80906750e-04]\n",
      " ...\n",
      " [4.38208955e-02 4.44323928e-02 5.41459899e-01 ... 3.92964824e-01\n",
      "  4.46044332e-01 3.83063113e-04]\n",
      " [3.58208955e-02 1.03121254e-02 3.83547823e-01 ... 3.93969849e-02\n",
      "  4.10790207e-01 5.07293110e-04]\n",
      " [2.96119403e-02 9.79988113e-01 8.22526511e-01 ... 5.15577889e-01\n",
      "  7.08398559e-01 3.42713860e-04]]\n",
      "[[5.30149254e-02 4.83693314e-01 7.97590858e-01 ... 2.64321608e-01\n",
      "  6.84125455e-01 4.26435192e-04]\n",
      " [4.25074627e-02 5.42382175e-02 5.91722434e-01 ... 1.20603015e-01\n",
      "  3.85419465e-01 3.86154639e-04]\n",
      " [5.15820896e-02 8.12888856e-01 8.70132812e-01 ... 6.42211055e-01\n",
      "  7.69532878e-01 3.75903578e-04]\n",
      " ...\n",
      " [2.80597015e-02 9.89994056e-01 9.09791002e-01 ... 1.40703518e-01\n",
      "  8.33015311e-01 3.24610256e-04]\n",
      " [6.45970149e-02 8.71923923e-01 8.43570473e-01 ... 8.56281407e-01\n",
      "  6.85514871e-01 4.12374917e-04]\n",
      " [4.23880597e-02 6.60798514e-01 8.01132503e-01 ... 5.81909548e-01\n",
      "  7.74743190e-01 5.56837570e-04]]\n"
     ]
    }
   ],
   "source": [
    "print(X_val_normalized)\n",
    "print(X_test_normalized)"
   ],
   "metadata": {
    "collapsed": false,
    "ExecuteTime": {
     "end_time": "2023-11-07T10:53:55.630756450Z",
     "start_time": "2023-11-07T10:53:55.607966410Z"
    }
   },
   "id": "bb567527be7dc3bf"
  },
  {
   "cell_type": "markdown",
   "source": [],
   "metadata": {
    "collapsed": false
   },
   "id": "8dadd0efb37cd044"
  },
  {
   "cell_type": "code",
   "execution_count": 47,
   "outputs": [
    {
     "name": "stdout",
     "output_type": "stream",
     "text": [
      "0\n"
     ]
    }
   ],
   "source": [
    "y = y_train.isnull().sum()\n",
    "print(y)"
   ],
   "metadata": {
    "collapsed": false,
    "ExecuteTime": {
     "end_time": "2023-11-07T10:53:58.241857977Z",
     "start_time": "2023-11-07T10:53:58.222397931Z"
    }
   },
   "id": "b9b22f2f17c23a6d"
  },
  {
   "cell_type": "code",
   "execution_count": 33,
   "outputs": [],
   "source": [
    "from sklearn.impute import SimpleImputer\n",
    "\n",
    "imputer = SimpleImputer(strategy='most_frequent')\n",
    "y_train_imputed = imputer.fit_transform(y_train.values.reshape(-1, 1))\n"
   ],
   "metadata": {
    "collapsed": false,
    "ExecuteTime": {
     "end_time": "2023-11-07T10:40:03.020760212Z",
     "start_time": "2023-11-07T10:40:02.745893187Z"
    }
   },
   "id": "f6e72df4da0f7685"
  },
  {
   "cell_type": "code",
   "execution_count": 34,
   "outputs": [
    {
     "name": "stdout",
     "output_type": "stream",
     "text": [
      "Počet chýbajúcich hodnôt: 0\n"
     ]
    }
   ],
   "source": [
    "import numpy as np\n",
    "\n",
    "# Kontrola chýbajúcich hodnôt v NumPy poli\n",
    "missing_values = np.isnan(y_train_imputed).sum()\n",
    "print(\"Počet chýbajúcich hodnôt:\", missing_values)"
   ],
   "metadata": {
    "collapsed": false,
    "ExecuteTime": {
     "end_time": "2023-11-07T10:40:04.142984582Z",
     "start_time": "2023-11-07T10:40:04.134807838Z"
    }
   },
   "id": "3fa24ccf38b6ccf"
  },
  {
   "cell_type": "code",
   "execution_count": 39,
   "outputs": [],
   "source": [
    "y_train_imputed = y_train_imputed.ravel() # asi tu treba dat iba y_train"
   ],
   "metadata": {
    "collapsed": false,
    "ExecuteTime": {
     "end_time": "2023-11-07T10:43:20.944009485Z",
     "start_time": "2023-11-07T10:43:20.942389447Z"
    }
   },
   "id": "ccd88f92482a3ab3"
  },
  {
   "cell_type": "code",
   "execution_count": 41,
   "outputs": [],
   "source": [
    "# Vytvorenie a nastavenie jednoduchej neurónovej siete pre klasifikáciu\n",
    "model = MLPClassifier(hidden_layer_sizes=(100, ), activation='relu', solver='adam', max_iter=2000, random_state=42)\n",
    "\n",
    "# Trénovanie modelu na trénovacích dátach\n",
    "model.fit(X_train_normalized, y_train_imputed) # sem dat tiez y_train\n",
    "\n",
    "# Predikcia na validačných dátach\n",
    "y_val_pred = model.predict(X_val_normalized)"
   ],
   "metadata": {
    "collapsed": false,
    "ExecuteTime": {
     "end_time": "2023-11-07T10:48:53.662901928Z",
     "start_time": "2023-11-07T10:47:16.822006075Z"
    }
   },
   "id": "d3eecbb19d299719"
  },
  {
   "cell_type": "code",
   "execution_count": 42,
   "outputs": [
    {
     "name": "stderr",
     "output_type": "stream",
     "text": [
      "/home/vbadmin/Desktop/skola/pycharm-projects/SUNS-zadanie-1/venv/lib/python3.10/site-packages/sklearn/utils/_array_api.py:245: RuntimeWarning: invalid value encountered in cast\n",
      "  return x.astype(dtype, copy=copy, casting=casting)\n"
     ]
    },
    {
     "ename": "ValueError",
     "evalue": "Input y_true contains NaN.",
     "output_type": "error",
     "traceback": [
      "\u001B[0;31m---------------------------------------------------------------------------\u001B[0m",
      "\u001B[0;31mValueError\u001B[0m                                Traceback (most recent call last)",
      "Cell \u001B[0;32mIn[42], line 7\u001B[0m\n\u001B[1;32m      4\u001B[0m y_test_pred \u001B[38;5;241m=\u001B[39m model\u001B[38;5;241m.\u001B[39mpredict(X_test_normalized)\n\u001B[1;32m      6\u001B[0m accuracy_train \u001B[38;5;241m=\u001B[39m accuracy_score(y_train_imputed, y_train_pred)\n\u001B[0;32m----> 7\u001B[0m accuracy_test \u001B[38;5;241m=\u001B[39m \u001B[43maccuracy_score\u001B[49m\u001B[43m(\u001B[49m\u001B[43my_test\u001B[49m\u001B[43m,\u001B[49m\u001B[43m \u001B[49m\u001B[43my_test_pred\u001B[49m\u001B[43m)\u001B[49m\n\u001B[1;32m      9\u001B[0m \u001B[38;5;28mprint\u001B[39m(\u001B[38;5;124m\"\u001B[39m\u001B[38;5;124mÚspešnosť na trénovacej množine:\u001B[39m\u001B[38;5;124m\"\u001B[39m, accuracy_train)\n\u001B[1;32m     10\u001B[0m \u001B[38;5;28mprint\u001B[39m(\u001B[38;5;124m\"\u001B[39m\u001B[38;5;124mÚspešnosť na testovacej množine:\u001B[39m\u001B[38;5;124m\"\u001B[39m, accuracy_test)\n",
      "File \u001B[0;32m~/Desktop/skola/pycharm-projects/SUNS-zadanie-1/venv/lib/python3.10/site-packages/sklearn/utils/_param_validation.py:214\u001B[0m, in \u001B[0;36mvalidate_params.<locals>.decorator.<locals>.wrapper\u001B[0;34m(*args, **kwargs)\u001B[0m\n\u001B[1;32m    208\u001B[0m \u001B[38;5;28;01mtry\u001B[39;00m:\n\u001B[1;32m    209\u001B[0m     \u001B[38;5;28;01mwith\u001B[39;00m config_context(\n\u001B[1;32m    210\u001B[0m         skip_parameter_validation\u001B[38;5;241m=\u001B[39m(\n\u001B[1;32m    211\u001B[0m             prefer_skip_nested_validation \u001B[38;5;129;01mor\u001B[39;00m global_skip_validation\n\u001B[1;32m    212\u001B[0m         )\n\u001B[1;32m    213\u001B[0m     ):\n\u001B[0;32m--> 214\u001B[0m         \u001B[38;5;28;01mreturn\u001B[39;00m \u001B[43mfunc\u001B[49m\u001B[43m(\u001B[49m\u001B[38;5;241;43m*\u001B[39;49m\u001B[43margs\u001B[49m\u001B[43m,\u001B[49m\u001B[43m \u001B[49m\u001B[38;5;241;43m*\u001B[39;49m\u001B[38;5;241;43m*\u001B[39;49m\u001B[43mkwargs\u001B[49m\u001B[43m)\u001B[49m\n\u001B[1;32m    215\u001B[0m \u001B[38;5;28;01mexcept\u001B[39;00m InvalidParameterError \u001B[38;5;28;01mas\u001B[39;00m e:\n\u001B[1;32m    216\u001B[0m     \u001B[38;5;66;03m# When the function is just a wrapper around an estimator, we allow\u001B[39;00m\n\u001B[1;32m    217\u001B[0m     \u001B[38;5;66;03m# the function to delegate validation to the estimator, but we replace\u001B[39;00m\n\u001B[1;32m    218\u001B[0m     \u001B[38;5;66;03m# the name of the estimator by the name of the function in the error\u001B[39;00m\n\u001B[1;32m    219\u001B[0m     \u001B[38;5;66;03m# message to avoid confusion.\u001B[39;00m\n\u001B[1;32m    220\u001B[0m     msg \u001B[38;5;241m=\u001B[39m re\u001B[38;5;241m.\u001B[39msub(\n\u001B[1;32m    221\u001B[0m         \u001B[38;5;124mr\u001B[39m\u001B[38;5;124m\"\u001B[39m\u001B[38;5;124mparameter of \u001B[39m\u001B[38;5;124m\\\u001B[39m\u001B[38;5;124mw+ must be\u001B[39m\u001B[38;5;124m\"\u001B[39m,\n\u001B[1;32m    222\u001B[0m         \u001B[38;5;124mf\u001B[39m\u001B[38;5;124m\"\u001B[39m\u001B[38;5;124mparameter of \u001B[39m\u001B[38;5;132;01m{\u001B[39;00mfunc\u001B[38;5;241m.\u001B[39m\u001B[38;5;18m__qualname__\u001B[39m\u001B[38;5;132;01m}\u001B[39;00m\u001B[38;5;124m must be\u001B[39m\u001B[38;5;124m\"\u001B[39m,\n\u001B[1;32m    223\u001B[0m         \u001B[38;5;28mstr\u001B[39m(e),\n\u001B[1;32m    224\u001B[0m     )\n",
      "File \u001B[0;32m~/Desktop/skola/pycharm-projects/SUNS-zadanie-1/venv/lib/python3.10/site-packages/sklearn/metrics/_classification.py:220\u001B[0m, in \u001B[0;36maccuracy_score\u001B[0;34m(y_true, y_pred, normalize, sample_weight)\u001B[0m\n\u001B[1;32m    154\u001B[0m \u001B[38;5;250m\u001B[39m\u001B[38;5;124;03m\"\"\"Accuracy classification score.\u001B[39;00m\n\u001B[1;32m    155\u001B[0m \n\u001B[1;32m    156\u001B[0m \u001B[38;5;124;03mIn multilabel classification, this function computes subset accuracy:\u001B[39;00m\n\u001B[0;32m   (...)\u001B[0m\n\u001B[1;32m    216\u001B[0m \u001B[38;5;124;03m0.5\u001B[39;00m\n\u001B[1;32m    217\u001B[0m \u001B[38;5;124;03m\"\"\"\u001B[39;00m\n\u001B[1;32m    219\u001B[0m \u001B[38;5;66;03m# Compute accuracy for each possible representation\u001B[39;00m\n\u001B[0;32m--> 220\u001B[0m y_type, y_true, y_pred \u001B[38;5;241m=\u001B[39m \u001B[43m_check_targets\u001B[49m\u001B[43m(\u001B[49m\u001B[43my_true\u001B[49m\u001B[43m,\u001B[49m\u001B[43m \u001B[49m\u001B[43my_pred\u001B[49m\u001B[43m)\u001B[49m\n\u001B[1;32m    221\u001B[0m check_consistent_length(y_true, y_pred, sample_weight)\n\u001B[1;32m    222\u001B[0m \u001B[38;5;28;01mif\u001B[39;00m y_type\u001B[38;5;241m.\u001B[39mstartswith(\u001B[38;5;124m\"\u001B[39m\u001B[38;5;124mmultilabel\u001B[39m\u001B[38;5;124m\"\u001B[39m):\n",
      "File \u001B[0;32m~/Desktop/skola/pycharm-projects/SUNS-zadanie-1/venv/lib/python3.10/site-packages/sklearn/metrics/_classification.py:85\u001B[0m, in \u001B[0;36m_check_targets\u001B[0;34m(y_true, y_pred)\u001B[0m\n\u001B[1;32m     58\u001B[0m \u001B[38;5;250m\u001B[39m\u001B[38;5;124;03m\"\"\"Check that y_true and y_pred belong to the same classification task.\u001B[39;00m\n\u001B[1;32m     59\u001B[0m \n\u001B[1;32m     60\u001B[0m \u001B[38;5;124;03mThis converts multiclass or binary types to a common shape, and raises a\u001B[39;00m\n\u001B[0;32m   (...)\u001B[0m\n\u001B[1;32m     82\u001B[0m \u001B[38;5;124;03my_pred : array or indicator matrix\u001B[39;00m\n\u001B[1;32m     83\u001B[0m \u001B[38;5;124;03m\"\"\"\u001B[39;00m\n\u001B[1;32m     84\u001B[0m check_consistent_length(y_true, y_pred)\n\u001B[0;32m---> 85\u001B[0m type_true \u001B[38;5;241m=\u001B[39m \u001B[43mtype_of_target\u001B[49m\u001B[43m(\u001B[49m\u001B[43my_true\u001B[49m\u001B[43m,\u001B[49m\u001B[43m \u001B[49m\u001B[43minput_name\u001B[49m\u001B[38;5;241;43m=\u001B[39;49m\u001B[38;5;124;43m\"\u001B[39;49m\u001B[38;5;124;43my_true\u001B[39;49m\u001B[38;5;124;43m\"\u001B[39;49m\u001B[43m)\u001B[49m\n\u001B[1;32m     86\u001B[0m type_pred \u001B[38;5;241m=\u001B[39m type_of_target(y_pred, input_name\u001B[38;5;241m=\u001B[39m\u001B[38;5;124m\"\u001B[39m\u001B[38;5;124my_pred\u001B[39m\u001B[38;5;124m\"\u001B[39m)\n\u001B[1;32m     88\u001B[0m y_type \u001B[38;5;241m=\u001B[39m {type_true, type_pred}\n",
      "File \u001B[0;32m~/Desktop/skola/pycharm-projects/SUNS-zadanie-1/venv/lib/python3.10/site-packages/sklearn/utils/multiclass.py:383\u001B[0m, in \u001B[0;36mtype_of_target\u001B[0;34m(y, input_name)\u001B[0m\n\u001B[1;32m    381\u001B[0m     data \u001B[38;5;241m=\u001B[39m y\u001B[38;5;241m.\u001B[39mdata \u001B[38;5;28;01mif\u001B[39;00m issparse(y) \u001B[38;5;28;01melse\u001B[39;00m y\n\u001B[1;32m    382\u001B[0m     \u001B[38;5;28;01mif\u001B[39;00m xp\u001B[38;5;241m.\u001B[39many(data \u001B[38;5;241m!=\u001B[39m xp\u001B[38;5;241m.\u001B[39mastype(data, \u001B[38;5;28mint\u001B[39m)):\n\u001B[0;32m--> 383\u001B[0m         \u001B[43m_assert_all_finite\u001B[49m\u001B[43m(\u001B[49m\u001B[43mdata\u001B[49m\u001B[43m,\u001B[49m\u001B[43m \u001B[49m\u001B[43minput_name\u001B[49m\u001B[38;5;241;43m=\u001B[39;49m\u001B[43minput_name\u001B[49m\u001B[43m)\u001B[49m\n\u001B[1;32m    384\u001B[0m         \u001B[38;5;28;01mreturn\u001B[39;00m \u001B[38;5;124m\"\u001B[39m\u001B[38;5;124mcontinuous\u001B[39m\u001B[38;5;124m\"\u001B[39m \u001B[38;5;241m+\u001B[39m suffix\n\u001B[1;32m    386\u001B[0m \u001B[38;5;66;03m# Check multiclass\u001B[39;00m\n",
      "File \u001B[0;32m~/Desktop/skola/pycharm-projects/SUNS-zadanie-1/venv/lib/python3.10/site-packages/sklearn/utils/validation.py:122\u001B[0m, in \u001B[0;36m_assert_all_finite\u001B[0;34m(X, allow_nan, msg_dtype, estimator_name, input_name)\u001B[0m\n\u001B[1;32m    119\u001B[0m \u001B[38;5;28;01mif\u001B[39;00m first_pass_isfinite:\n\u001B[1;32m    120\u001B[0m     \u001B[38;5;28;01mreturn\u001B[39;00m\n\u001B[0;32m--> 122\u001B[0m \u001B[43m_assert_all_finite_element_wise\u001B[49m\u001B[43m(\u001B[49m\n\u001B[1;32m    123\u001B[0m \u001B[43m    \u001B[49m\u001B[43mX\u001B[49m\u001B[43m,\u001B[49m\n\u001B[1;32m    124\u001B[0m \u001B[43m    \u001B[49m\u001B[43mxp\u001B[49m\u001B[38;5;241;43m=\u001B[39;49m\u001B[43mxp\u001B[49m\u001B[43m,\u001B[49m\n\u001B[1;32m    125\u001B[0m \u001B[43m    \u001B[49m\u001B[43mallow_nan\u001B[49m\u001B[38;5;241;43m=\u001B[39;49m\u001B[43mallow_nan\u001B[49m\u001B[43m,\u001B[49m\n\u001B[1;32m    126\u001B[0m \u001B[43m    \u001B[49m\u001B[43mmsg_dtype\u001B[49m\u001B[38;5;241;43m=\u001B[39;49m\u001B[43mmsg_dtype\u001B[49m\u001B[43m,\u001B[49m\n\u001B[1;32m    127\u001B[0m \u001B[43m    \u001B[49m\u001B[43mestimator_name\u001B[49m\u001B[38;5;241;43m=\u001B[39;49m\u001B[43mestimator_name\u001B[49m\u001B[43m,\u001B[49m\n\u001B[1;32m    128\u001B[0m \u001B[43m    \u001B[49m\u001B[43minput_name\u001B[49m\u001B[38;5;241;43m=\u001B[39;49m\u001B[43minput_name\u001B[49m\u001B[43m,\u001B[49m\n\u001B[1;32m    129\u001B[0m \u001B[43m\u001B[49m\u001B[43m)\u001B[49m\n",
      "File \u001B[0;32m~/Desktop/skola/pycharm-projects/SUNS-zadanie-1/venv/lib/python3.10/site-packages/sklearn/utils/validation.py:171\u001B[0m, in \u001B[0;36m_assert_all_finite_element_wise\u001B[0;34m(X, xp, allow_nan, msg_dtype, estimator_name, input_name)\u001B[0m\n\u001B[1;32m    154\u001B[0m \u001B[38;5;28;01mif\u001B[39;00m estimator_name \u001B[38;5;129;01mand\u001B[39;00m input_name \u001B[38;5;241m==\u001B[39m \u001B[38;5;124m\"\u001B[39m\u001B[38;5;124mX\u001B[39m\u001B[38;5;124m\"\u001B[39m \u001B[38;5;129;01mand\u001B[39;00m has_nan_error:\n\u001B[1;32m    155\u001B[0m     \u001B[38;5;66;03m# Improve the error message on how to handle missing values in\u001B[39;00m\n\u001B[1;32m    156\u001B[0m     \u001B[38;5;66;03m# scikit-learn.\u001B[39;00m\n\u001B[1;32m    157\u001B[0m     msg_err \u001B[38;5;241m+\u001B[39m\u001B[38;5;241m=\u001B[39m (\n\u001B[1;32m    158\u001B[0m         \u001B[38;5;124mf\u001B[39m\u001B[38;5;124m\"\u001B[39m\u001B[38;5;130;01m\\n\u001B[39;00m\u001B[38;5;132;01m{\u001B[39;00mestimator_name\u001B[38;5;132;01m}\u001B[39;00m\u001B[38;5;124m does not accept missing values\u001B[39m\u001B[38;5;124m\"\u001B[39m\n\u001B[1;32m    159\u001B[0m         \u001B[38;5;124m\"\u001B[39m\u001B[38;5;124m encoded as NaN natively. For supervised learning, you might want\u001B[39m\u001B[38;5;124m\"\u001B[39m\n\u001B[0;32m   (...)\u001B[0m\n\u001B[1;32m    169\u001B[0m         \u001B[38;5;124m\"\u001B[39m\u001B[38;5;124m#estimators-that-handle-nan-values\u001B[39m\u001B[38;5;124m\"\u001B[39m\n\u001B[1;32m    170\u001B[0m     )\n\u001B[0;32m--> 171\u001B[0m \u001B[38;5;28;01mraise\u001B[39;00m \u001B[38;5;167;01mValueError\u001B[39;00m(msg_err)\n",
      "\u001B[0;31mValueError\u001B[0m: Input y_true contains NaN."
     ]
    }
   ],
   "source": [
    "from sklearn.metrics import accuracy_score\n",
    "\n",
    "y_train_pred = model.predict(X_train_normalized)\n",
    "y_test_pred = model.predict(X_test_normalized)\n",
    "\n",
    "accuracy_train = accuracy_score(y_train_imputed, y_train_pred) #sem tiez dat y_train\n",
    "accuracy_test = accuracy_score(y_test, y_test_pred)\n",
    "\n",
    "print(\"Úspešnosť na trénovacej množine:\", accuracy_train)\n",
    "print(\"Úspešnosť na testovacej množine:\", accuracy_test)\n"
   ],
   "metadata": {
    "collapsed": false,
    "ExecuteTime": {
     "end_time": "2023-11-07T10:50:35.406533967Z",
     "start_time": "2023-11-07T10:50:34.741024444Z"
    }
   },
   "id": "89a4bd001b1a21c2"
  },
  {
   "cell_type": "code",
   "execution_count": null,
   "outputs": [],
   "source": [],
   "metadata": {
    "collapsed": false
   },
   "id": "de90d5a858119b33"
  }
 ],
 "metadata": {
  "kernelspec": {
   "display_name": "Python 3 (ipykernel)",
   "language": "python",
   "name": "python3"
  },
  "language_info": {
   "codemirror_mode": {
    "name": "ipython",
    "version": 3
   },
   "file_extension": ".py",
   "mimetype": "text/x-python",
   "name": "python",
   "nbconvert_exporter": "python",
   "pygments_lexer": "ipython3",
   "version": "3.11.0"
  }
 },
 "nbformat": 4,
 "nbformat_minor": 5
}
