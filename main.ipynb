{
 "cells": [
  {
   "cell_type": "code",
   "execution_count": 233,
   "id": "initial_id",
   "metadata": {
    "ExecuteTime": {
     "end_time": "2023-11-08T15:23:04.227599800Z",
     "start_time": "2023-11-08T15:23:04.221432300Z"
    }
   },
   "outputs": [],
   "source": [
    "import pandas as pd"
   ]
  },
  {
   "cell_type": "code",
   "execution_count": 234,
   "outputs": [],
   "source": [
    "from sklearn.preprocessing import LabelEncoder"
   ],
   "metadata": {
    "collapsed": false,
    "ExecuteTime": {
     "end_time": "2023-11-08T15:23:04.390308300Z",
     "start_time": "2023-11-08T15:23:04.383650700Z"
    }
   },
   "id": "743b102b4ac9708"
  },
  {
   "cell_type": "code",
   "execution_count": 235,
   "id": "f3e6bd29fc2c8fa9",
   "metadata": {
    "collapsed": false,
    "ExecuteTime": {
     "end_time": "2023-11-08T15:23:04.535414Z",
     "start_time": "2023-11-08T15:23:04.526572Z"
    }
   },
   "outputs": [],
   "source": [
    "import seaborn as sns"
   ]
  },
  {
   "cell_type": "code",
   "execution_count": 236,
   "outputs": [],
   "source": [
    "from sklearn.model_selection import train_test_split"
   ],
   "metadata": {
    "collapsed": false,
    "ExecuteTime": {
     "end_time": "2023-11-08T15:23:04.692488200Z",
     "start_time": "2023-11-08T15:23:04.670545200Z"
    }
   },
   "id": "5ef858a0bafd2d92"
  },
  {
   "cell_type": "code",
   "execution_count": 237,
   "outputs": [],
   "source": [
    "from sklearn.preprocessing import MinMaxScaler"
   ],
   "metadata": {
    "collapsed": false,
    "ExecuteTime": {
     "end_time": "2023-11-08T15:23:04.848271700Z",
     "start_time": "2023-11-08T15:23:04.817686500Z"
    }
   },
   "id": "d7ff01e8711eac1"
  },
  {
   "cell_type": "code",
   "execution_count": 238,
   "outputs": [],
   "source": [
    "import matplotlib.pyplot as plt"
   ],
   "metadata": {
    "collapsed": false,
    "ExecuteTime": {
     "end_time": "2023-11-08T15:23:05.022528Z",
     "start_time": "2023-11-08T15:23:05.002927Z"
    }
   },
   "id": "cd74f73cb3b14aae"
  },
  {
   "cell_type": "code",
   "execution_count": 239,
   "outputs": [],
   "source": [
    "from sklearn.neural_network import MLPClassifier"
   ],
   "metadata": {
    "collapsed": false,
    "ExecuteTime": {
     "end_time": "2023-11-08T15:23:05.178560800Z",
     "start_time": "2023-11-08T15:23:05.169928600Z"
    }
   },
   "id": "58bbaebde7b77303"
  },
  {
   "cell_type": "code",
   "execution_count": 240,
   "id": "bd1bb817ccbc8638",
   "metadata": {
    "collapsed": false,
    "ExecuteTime": {
     "end_time": "2023-11-08T15:23:05.385034600Z",
     "start_time": "2023-11-08T15:23:05.298534400Z"
    }
   },
   "outputs": [],
   "source": [
    "# Definujte cestu k CSV súboru s datasetom Iris\n",
    "songs_dataset = \"zadanie1_dataset.csv\"\n",
    "\n",
    "# Načítajte dataset s použitím Pandas\n",
    "df = pd.read_csv(songs_dataset)"
   ]
  },
  {
   "cell_type": "code",
   "execution_count": 241,
   "outputs": [],
   "source": [
    "emotions = ['calm', 'energetic', 'happy', 'sad']"
   ],
   "metadata": {
    "collapsed": false,
    "ExecuteTime": {
     "end_time": "2023-11-08T15:23:05.404030900Z",
     "start_time": "2023-11-08T15:23:05.379701400Z"
    }
   },
   "id": "25e1c9a6332f5655"
  },
  {
   "cell_type": "code",
   "execution_count": 242,
   "id": "e8adaff7d768e0af",
   "metadata": {
    "collapsed": false,
    "ExecuteTime": {
     "end_time": "2023-11-08T15:23:05.588255500Z",
     "start_time": "2023-11-08T15:23:05.564807500Z"
    }
   },
   "outputs": [
    {
     "data": {
      "text/plain": "Index(['danceability', 'energy', 'loudness', 'speechiness', 'acousticness',\n       'instrumentalness', 'liveness', 'valence', 'tempo', 'duration_ms',\n       'popularity', 'number_of_artists', 'explicit', 'name', 'url', 'genres',\n       'filtered_genres', 'top_genre', 'emotion'],\n      dtype='object')"
     },
     "execution_count": 242,
     "metadata": {},
     "output_type": "execute_result"
    }
   ],
   "source": [
    "df.columns"
   ]
  },
  {
   "cell_type": "code",
   "execution_count": 243,
   "outputs": [],
   "source": [
    "columns_to_remove = ['name', 'url', 'genres', 'filtered_genres', 'duration_ms']\n",
    "df_without_specified_columns = df.drop(columns=columns_to_remove)"
   ],
   "metadata": {
    "collapsed": false,
    "ExecuteTime": {
     "end_time": "2023-11-08T15:23:05.759966800Z",
     "start_time": "2023-11-08T15:23:05.737374900Z"
    }
   },
   "id": "eb62586e3741a2d5"
  },
  {
   "cell_type": "code",
   "execution_count": 244,
   "outputs": [],
   "source": [
    "# vymazanie outlierov pomocou setnutia hodnot(dole v zadani)\n",
    "df_without_specified_columns = df_without_specified_columns[(df_without_specified_columns['danceability'] >= 0.0) & (df_without_specified_columns['danceability'] <= 1.0)]\n",
    "df_without_specified_columns = df_without_specified_columns[(df_without_specified_columns['energy'] >= 0.0) & (df_without_specified_columns['energy'] <= 1.0)]\n",
    "df_without_specified_columns = df_without_specified_columns[(df_without_specified_columns['loudness'] >= -60) & (df_without_specified_columns['loudness'] <= 0)]\n",
    "df_without_specified_columns = df_without_specified_columns[(df_without_specified_columns['speechiness'] >= 0.0) & (df_without_specified_columns['speechiness'] <= 1.0)]\n",
    "df_without_specified_columns = df_without_specified_columns[(df_without_specified_columns['acousticness'] >= 0.0) & (df_without_specified_columns['acousticness'] <= 1.0)]\n",
    "df_without_specified_columns = df_without_specified_columns[(df_without_specified_columns['instrumentalness'] >= 0.0) & (df_without_specified_columns['instrumentalness'] <= 1.0)]\n",
    "df_without_specified_columns = df_without_specified_columns[(df_without_specified_columns['liveness'] >= 0.0) & (df_without_specified_columns['liveness'] <= 1.0)]\n",
    "df_without_specified_columns = df_without_specified_columns[(df_without_specified_columns['liveness'] >= 0.0) & (df_without_specified_columns['liveness'] <= 1.0)]\n",
    "df_without_specified_columns = df_without_specified_columns[(df_without_specified_columns['popularity'] >= 0.0) & (df_without_specified_columns['popularity'] <= 100.0)]"
   ],
   "metadata": {
    "collapsed": false,
    "ExecuteTime": {
     "end_time": "2023-11-08T15:23:05.912398100Z",
     "start_time": "2023-11-08T15:23:05.880803900Z"
    }
   },
   "id": "c0ed485c9893b8fb"
  },
  {
   "cell_type": "code",
   "execution_count": 245,
   "outputs": [
    {
     "data": {
      "text/plain": "0"
     },
     "execution_count": 245,
     "metadata": {},
     "output_type": "execute_result"
    }
   ],
   "source": [
    "# odstranenie null hodnot\n",
    "df_without_specified_columns = df_without_specified_columns.dropna(how='any')\n",
    "\n",
    "df_without_specified_columns.isnull().sum().sum()"
   ],
   "metadata": {
    "collapsed": false,
    "ExecuteTime": {
     "end_time": "2023-11-08T15:23:06.094234200Z",
     "start_time": "2023-11-08T15:23:06.057149200Z"
    }
   },
   "id": "457f3cf1b0d9d903"
  },
  {
   "cell_type": "code",
   "execution_count": 246,
   "outputs": [
    {
     "data": {
      "text/plain": "danceability         float64\nenergy               float64\nloudness             float64\nspeechiness          float64\nacousticness         float64\ninstrumentalness     float64\nliveness             float64\nvalence              float64\ntempo                float64\npopularity           float64\nnumber_of_artists    float64\nexplicit                bool\ntop_genre             object\nemotion               object\ndtype: object"
     },
     "execution_count": 246,
     "metadata": {},
     "output_type": "execute_result"
    }
   ],
   "source": [
    "df_without_specified_columns.dtypes\n"
   ],
   "metadata": {
    "collapsed": false,
    "ExecuteTime": {
     "end_time": "2023-11-08T15:23:06.120353700Z",
     "start_time": "2023-11-08T15:23:06.091234800Z"
    }
   },
   "id": "c802b9b3acf9947f"
  },
  {
   "cell_type": "code",
   "execution_count": 247,
   "id": "6e2205eee62a9e7",
   "metadata": {
    "collapsed": false,
    "ExecuteTime": {
     "end_time": "2023-11-08T15:23:06.828404100Z",
     "start_time": "2023-11-08T15:23:06.266268400Z"
    }
   },
   "outputs": [
    {
     "data": {
      "text/plain": "<seaborn.axisgrid.FacetGrid at 0x2382bfa2150>"
     },
     "execution_count": 247,
     "metadata": {},
     "output_type": "execute_result"
    },
    {
     "data": {
      "text/plain": "<Figure size 500x500 with 1 Axes>",
      "image/png": "[encoded data removed]"
     },
     "metadata": {},
     "output_type": "display_data"
    }
   ],
   "source": [
    "sns.displot(df_without_specified_columns['danceability'])"
   ]
  },
  {
   "cell_type": "code",
   "execution_count": 248,
   "id": "206bf24d-9649-4d3c-87e5-bce8523b0443",
   "metadata": {
    "ExecuteTime": {
     "end_time": "2023-11-08T15:23:07.029308600Z",
     "start_time": "2023-11-08T15:23:06.789389500Z"
    }
   },
   "outputs": [
    {
     "data": {
      "text/plain": "<Axes: ylabel='danceability'>"
     },
     "execution_count": 248,
     "metadata": {},
     "output_type": "execute_result"
    },
    {
     "data": {
      "text/plain": "<Figure size 640x480 with 1 Axes>",
      "image/png": "[encoded data removed]"
     },
     "metadata": {},
     "output_type": "display_data"
    }
   ],
   "source": [
    "sns.boxplot(df_without_specified_columns['danceability'])"
   ]
  },
  {
   "cell_type": "code",
   "execution_count": 249,
   "outputs": [
    {
     "data": {
      "text/plain": "0        0\n1        0\n2        1\n3        0\n4        0\n        ..\n11955    0\n11956    0\n11957    0\n11958    0\n11959    0\nName: explicit, Length: 11537, dtype: int32"
     },
     "execution_count": 249,
     "metadata": {},
     "output_type": "execute_result"
    }
   ],
   "source": [
    "# zakodovanie stlpca EXPLICIT cez zmenu data type\n",
    "df_without_specified_columns[\"explicit\"] = df_without_specified_columns[\"explicit\"].astype(int)\n",
    "\n",
    "df_without_specified_columns[\"explicit\"]"
   ],
   "metadata": {
    "collapsed": false,
    "ExecuteTime": {
     "end_time": "2023-11-08T15:23:07.055948700Z",
     "start_time": "2023-11-08T15:23:06.992571700Z"
    }
   },
   "id": "ee91925e0c893370"
  },
  {
   "cell_type": "code",
   "execution_count": 250,
   "outputs": [
    {
     "data": {
      "text/plain": "0        2\n1        2\n2        1\n3        2\n4        2\n        ..\n11955    3\n11956    3\n11957    3\n11958    3\n11959    2\nName: emotion, Length: 11537, dtype: int32"
     },
     "execution_count": 250,
     "metadata": {},
     "output_type": "execute_result"
    }
   ],
   "source": [
    "#label encodeing pre emotion spravit \n",
    "# Vytvorenie inštancie LabelEncoder\n",
    "label_encoder = LabelEncoder()\n",
    "\n",
    "# Fit a transform na stĺpec `top_genre`\n",
    "df_without_specified_columns['emotion'] = label_encoder.fit_transform(df_without_specified_columns['emotion'])\n",
    "df_without_specified_columns['emotion']"
   ],
   "metadata": {
    "collapsed": false,
    "ExecuteTime": {
     "end_time": "2023-11-08T15:23:07.073199900Z",
     "start_time": "2023-11-08T15:23:07.006905900Z"
    }
   },
   "id": "7f95af831f1780b8"
  },
  {
   "cell_type": "code",
   "execution_count": 251,
   "outputs": [
    {
     "data": {
      "text/plain": "       danceability  energy  loudness  speechiness  acousticness  \\\n0             0.638   0.781    -6.848       0.0285        0.0118   \n1             0.744   0.816    -3.933       0.0372        0.1440   \n2             0.721   0.768    -4.371       0.0685        0.2100   \n3             0.700   0.782    -4.631       0.0542        0.4490   \n4             0.764   0.587    -7.002       0.0298        0.0721   \n...             ...     ...       ...          ...           ...   \n11955         0.442   0.379   -12.711       0.0264        0.9610   \n11956         0.485   0.226   -10.503       0.0278        0.9820   \n11957         0.741   0.338    -8.488       0.0432        0.9300   \n11958         0.493   0.773    -5.875       0.0452        0.4560   \n11959         0.702   0.792    -8.631       0.0325        0.3400   \n\n       instrumentalness  liveness  valence    tempo  popularity  ...  \\\n0              0.009530    0.3490    0.250  122.985        34.0  ...   \n1              0.000009    0.0902    0.748  120.062        52.0  ...   \n2              0.008430    0.2620    0.468  124.076        45.0  ...   \n3              0.000000    0.1430    0.680  124.969        46.0  ...   \n4              0.000006    0.0940    0.494   89.980        45.0  ...   \n...                 ...       ...      ...      ...         ...  ...   \n11955          0.000567    0.2840    0.659   79.948         0.0  ...   \n11956          0.000000    0.0960    0.508  139.543         0.0  ...   \n11957          0.000001    0.1640    0.804  133.504         0.0  ...   \n11958          0.000003    0.1070    0.478  140.998         0.0  ...   \n11959          0.000081    0.1720    0.786  123.377        40.0  ...   \n\n       metalcore  opera  pop  punk  reggaeton  rock  rockabilly  ska  sleep  \\\n0              0      0    0     0          0     0           0    0      0   \n1              0      0    0     0          0     0           0    0      0   \n2              0      0    0     0          0     0           0    0      0   \n3              0      0    0     0          0     0           0    0      0   \n4              0      0    0     0          0     0           0    0      0   \n...          ...    ...  ...   ...        ...   ...         ...  ...    ...   \n11955          0      0    0     0          0     0           0    0      0   \n11956          0      0    0     0          0     0           0    0      0   \n11957          0      0    0     0          0     0           0    0      0   \n11958          0      0    0     0          0     0           0    0      0   \n11959          0      0    0     0          0     0           0    0      0   \n\n       soul  \n0         0  \n1         0  \n2         0  \n3         0  \n4         0  \n...     ...  \n11955     0  \n11956     0  \n11957     0  \n11958     0  \n11959     0  \n\n[11537 rows x 45 columns]",
      "text/html": "<div>\n<style scoped>\n    .dataframe tbody tr th:only-of-type {\n        vertical-align: middle;\n    }\n\n    .dataframe tbody tr th {\n        vertical-align: top;\n    }\n\n    .dataframe thead th {\n        text-align: right;\n    }\n</style>\n<table border=\"1\" class=\"dataframe\">\n  <thead>\n    <tr style=\"text-align: right;\">\n      <th></th>\n      <th>danceability</th>\n      <th>energy</th>\n      <th>loudness</th>\n      <th>speechiness</th>\n      <th>acousticness</th>\n      <th>instrumentalness</th>\n      <th>liveness</th>\n      <th>valence</th>\n      <th>tempo</th>\n      <th>popularity</th>\n      <th>...</th>\n      <th>metalcore</th>\n      <th>opera</th>\n      <th>pop</th>\n      <th>punk</th>\n      <th>reggaeton</th>\n      <th>rock</th>\n      <th>rockabilly</th>\n      <th>ska</th>\n      <th>sleep</th>\n      <th>soul</th>\n    </tr>\n  </thead>\n  <tbody>\n    <tr>\n      <th>0</th>\n      <td>0.638</td>\n      <td>0.781</td>\n      <td>-6.848</td>\n      <td>0.0285</td>\n      <td>0.0118</td>\n      <td>0.009530</td>\n      <td>0.3490</td>\n      <td>0.250</td>\n      <td>122.985</td>\n      <td>34.0</td>\n      <td>...</td>\n      <td>0</td>\n      <td>0</td>\n      <td>0</td>\n      <td>0</td>\n      <td>0</td>\n      <td>0</td>\n      <td>0</td>\n      <td>0</td>\n      <td>0</td>\n      <td>0</td>\n    </tr>\n    <tr>\n      <th>1</th>\n      <td>0.744</td>\n      <td>0.816</td>\n      <td>-3.933</td>\n      <td>0.0372</td>\n      <td>0.1440</td>\n      <td>0.000009</td>\n      <td>0.0902</td>\n      <td>0.748</td>\n      <td>120.062</td>\n      <td>52.0</td>\n      <td>...</td>\n      <td>0</td>\n      <td>0</td>\n      <td>0</td>\n      <td>0</td>\n      <td>0</td>\n      <td>0</td>\n      <td>0</td>\n      <td>0</td>\n      <td>0</td>\n      <td>0</td>\n    </tr>\n    <tr>\n      <th>2</th>\n      <td>0.721</td>\n      <td>0.768</td>\n      <td>-4.371</td>\n      <td>0.0685</td>\n      <td>0.2100</td>\n      <td>0.008430</td>\n      <td>0.2620</td>\n      <td>0.468</td>\n      <td>124.076</td>\n      <td>45.0</td>\n      <td>...</td>\n      <td>0</td>\n      <td>0</td>\n      <td>0</td>\n      <td>0</td>\n      <td>0</td>\n      <td>0</td>\n      <td>0</td>\n      <td>0</td>\n      <td>0</td>\n      <td>0</td>\n    </tr>\n    <tr>\n      <th>3</th>\n      <td>0.700</td>\n      <td>0.782</td>\n      <td>-4.631</td>\n      <td>0.0542</td>\n      <td>0.4490</td>\n      <td>0.000000</td>\n      <td>0.1430</td>\n      <td>0.680</td>\n      <td>124.969</td>\n      <td>46.0</td>\n      <td>...</td>\n      <td>0</td>\n      <td>0</td>\n      <td>0</td>\n      <td>0</td>\n      <td>0</td>\n      <td>0</td>\n      <td>0</td>\n      <td>0</td>\n      <td>0</td>\n      <td>0</td>\n    </tr>\n    <tr>\n      <th>4</th>\n      <td>0.764</td>\n      <td>0.587</td>\n      <td>-7.002</td>\n      <td>0.0298</td>\n      <td>0.0721</td>\n      <td>0.000006</td>\n      <td>0.0940</td>\n      <td>0.494</td>\n      <td>89.980</td>\n      <td>45.0</td>\n      <td>...</td>\n      <td>0</td>\n      <td>0</td>\n      <td>0</td>\n      <td>0</td>\n      <td>0</td>\n      <td>0</td>\n      <td>0</td>\n      <td>0</td>\n      <td>0</td>\n      <td>0</td>\n    </tr>\n    <tr>\n      <th>...</th>\n      <td>...</td>\n      <td>...</td>\n      <td>...</td>\n      <td>...</td>\n      <td>...</td>\n      <td>...</td>\n      <td>...</td>\n      <td>...</td>\n      <td>...</td>\n      <td>...</td>\n      <td>...</td>\n      <td>...</td>\n      <td>...</td>\n      <td>...</td>\n      <td>...</td>\n      <td>...</td>\n      <td>...</td>\n      <td>...</td>\n      <td>...</td>\n      <td>...</td>\n      <td>...</td>\n    </tr>\n    <tr>\n      <th>11955</th>\n      <td>0.442</td>\n      <td>0.379</td>\n      <td>-12.711</td>\n      <td>0.0264</td>\n      <td>0.9610</td>\n      <td>0.000567</td>\n      <td>0.2840</td>\n      <td>0.659</td>\n      <td>79.948</td>\n      <td>0.0</td>\n      <td>...</td>\n      <td>0</td>\n      <td>0</td>\n      <td>0</td>\n      <td>0</td>\n      <td>0</td>\n      <td>0</td>\n      <td>0</td>\n      <td>0</td>\n      <td>0</td>\n      <td>0</td>\n    </tr>\n    <tr>\n      <th>11956</th>\n      <td>0.485</td>\n      <td>0.226</td>\n      <td>-10.503</td>\n      <td>0.0278</td>\n      <td>0.9820</td>\n      <td>0.000000</td>\n      <td>0.0960</td>\n      <td>0.508</td>\n      <td>139.543</td>\n      <td>0.0</td>\n      <td>...</td>\n      <td>0</td>\n      <td>0</td>\n      <td>0</td>\n      <td>0</td>\n      <td>0</td>\n      <td>0</td>\n      <td>0</td>\n      <td>0</td>\n      <td>0</td>\n      <td>0</td>\n    </tr>\n    <tr>\n      <th>11957</th>\n      <td>0.741</td>\n      <td>0.338</td>\n      <td>-8.488</td>\n      <td>0.0432</td>\n      <td>0.9300</td>\n      <td>0.000001</td>\n      <td>0.1640</td>\n      <td>0.804</td>\n      <td>133.504</td>\n      <td>0.0</td>\n      <td>...</td>\n      <td>0</td>\n      <td>0</td>\n      <td>0</td>\n      <td>0</td>\n      <td>0</td>\n      <td>0</td>\n      <td>0</td>\n      <td>0</td>\n      <td>0</td>\n      <td>0</td>\n    </tr>\n    <tr>\n      <th>11958</th>\n      <td>0.493</td>\n      <td>0.773</td>\n      <td>-5.875</td>\n      <td>0.0452</td>\n      <td>0.4560</td>\n      <td>0.000003</td>\n      <td>0.1070</td>\n      <td>0.478</td>\n      <td>140.998</td>\n      <td>0.0</td>\n      <td>...</td>\n      <td>0</td>\n      <td>0</td>\n      <td>0</td>\n      <td>0</td>\n      <td>0</td>\n      <td>0</td>\n      <td>0</td>\n      <td>0</td>\n      <td>0</td>\n      <td>0</td>\n    </tr>\n    <tr>\n      <th>11959</th>\n      <td>0.702</td>\n      <td>0.792</td>\n      <td>-8.631</td>\n      <td>0.0325</td>\n      <td>0.3400</td>\n      <td>0.000081</td>\n      <td>0.1720</td>\n      <td>0.786</td>\n      <td>123.377</td>\n      <td>40.0</td>\n      <td>...</td>\n      <td>0</td>\n      <td>0</td>\n      <td>0</td>\n      <td>0</td>\n      <td>0</td>\n      <td>0</td>\n      <td>0</td>\n      <td>0</td>\n      <td>0</td>\n      <td>0</td>\n    </tr>\n  </tbody>\n</table>\n<p>11537 rows × 45 columns</p>\n</div>"
     },
     "execution_count": 251,
     "metadata": {},
     "output_type": "execute_result"
    }
   ],
   "source": [
    "#One-Hot encodeing pre top-genre\n",
    "temp = list(df_without_specified_columns[\"top_genre\"].unique())\n",
    "\n",
    "df_ohwd = pd.get_dummies(df_without_specified_columns, columns=['top_genre'], prefix='', prefix_sep='')\n",
    "\n",
    "for i in temp:\n",
    "    df_ohwd[i] = df_ohwd[i].astype(int)\n",
    "    \n",
    "df_ohwd\n"
   ],
   "metadata": {
    "collapsed": false,
    "ExecuteTime": {
     "end_time": "2023-11-08T15:23:07.234267900Z",
     "start_time": "2023-11-08T15:23:07.014313100Z"
    }
   },
   "id": "ff1f5a819beed993"
  },
  {
   "cell_type": "code",
   "execution_count": 252,
   "id": "b00871a97cf6432f",
   "metadata": {
    "collapsed": false,
    "ExecuteTime": {
     "end_time": "2023-11-08T15:23:07.234267900Z",
     "start_time": "2023-11-08T15:23:07.062981900Z"
    }
   },
   "outputs": [
    {
     "data": {
      "text/plain": "'\\n# Funkcia na odstránenie outlierov pomocou IQR pre všetky stĺpce\\ndef remove_outliers_iqr(dataframe):\\n    # Vytvorenie prazdnej DataFrame pre výsledky\\n    df_cleaned = pd.DataFrame()\\n    temp.append(\\'explicit\\')\\n    \\n    # Iterovanie cez všetky stĺpce v datasete\\n    for column in dataframe.drop(columns=temp).columns:\\n        Q1 = dataframe[column].quantile(0.25)\\n        Q3 = dataframe[column].quantile(0.75)\\n        IQR = Q3 - Q1\\n        lower_bound = Q1 - 1.5 * IQR\\n        upper_bound = Q3 + 1.5 * IQR\\n        df_cleaned[column] = dataframe[(dataframe[column] >= lower_bound) & (dataframe[column] <= upper_bound)][column]\\n    \\n    return df_cleaned\\n\\n# Zavolanie funkcie na odstránenie outlierov pre všetky stĺpce\\ndf_cleaned = remove_outliers_iqr(df_ohwd)\\n\\nprint(\\'before removing outliers:\\', len(df))\\nprint(\\'after removing outliers:\\',len(df_cleaned))\\nprint(\\'outliers:\\', len(df)-len(df_cleaned))\\n\\nprint(\"Dataset bez outlierov:\")\\nprint(df_cleaned)\\n\\ndf_cleaned\\n'"
     },
     "execution_count": 252,
     "metadata": {},
     "output_type": "execute_result"
    }
   ],
   "source": [
    "'''\n",
    "# Funkcia na odstránenie outlierov pomocou IQR pre všetky stĺpce\n",
    "def remove_outliers_iqr(dataframe):\n",
    "    # Vytvorenie prazdnej DataFrame pre výsledky\n",
    "    df_cleaned = pd.DataFrame()\n",
    "    temp.append('explicit')\n",
    "    \n",
    "    # Iterovanie cez všetky stĺpce v datasete\n",
    "    for column in dataframe.drop(columns=temp).columns:\n",
    "        Q1 = dataframe[column].quantile(0.25)\n",
    "        Q3 = dataframe[column].quantile(0.75)\n",
    "        IQR = Q3 - Q1\n",
    "        lower_bound = Q1 - 1.5 * IQR\n",
    "        upper_bound = Q3 + 1.5 * IQR\n",
    "        df_cleaned[column] = dataframe[(dataframe[column] >= lower_bound) & (dataframe[column] <= upper_bound)][column]\n",
    "    \n",
    "    return df_cleaned\n",
    "\n",
    "# Zavolanie funkcie na odstránenie outlierov pre všetky stĺpce\n",
    "df_cleaned = remove_outliers_iqr(df_ohwd)\n",
    "\n",
    "print('before removing outliers:', len(df))\n",
    "print('after removing outliers:',len(df_cleaned))\n",
    "print('outliers:', len(df)-len(df_cleaned))\n",
    "\n",
    "print(\"Dataset bez outlierov:\")\n",
    "print(df_cleaned)\n",
    "\n",
    "df_cleaned\n",
    "'''"
   ]
  },
  {
   "cell_type": "code",
   "execution_count": 253,
   "outputs": [
    {
     "data": {
      "text/plain": "0"
     },
     "execution_count": 253,
     "metadata": {},
     "output_type": "execute_result"
    }
   ],
   "source": [
    "df_ohwd.isnull().sum().sum()"
   ],
   "metadata": {
    "collapsed": false,
    "ExecuteTime": {
     "end_time": "2023-11-08T15:23:07.280460400Z",
     "start_time": "2023-11-08T15:23:07.180156200Z"
    }
   },
   "id": "16c0554edf777571"
  },
  {
   "cell_type": "code",
   "execution_count": 254,
   "outputs": [],
   "source": [
    "# Rozdelenie dát do trénovacej (X_train, y_train), validačnej (X_val, y_val) a testovacej (X_test, y_test) množiny.\n",
    "# 'X' sú vstupné stĺpce a 'Y' je výstupný stĺpec.\n",
    "X = df_ohwd.drop(columns=['emotion']) #v x nesmie byt emotion,\n",
    "y = df_ohwd['emotion']#  ale v y musi byt emotion, \n",
    "\n",
    "# Rozdelenie dát na trénovaciu, validačnú a testovaciu množinu 8:1:1\n",
    "X_train, X_temp, y_train, y_temp = train_test_split(X, y, test_size=0.2, random_state=42)\n",
    "X_val, X_test, y_val, y_test = train_test_split(X_temp, y_temp, test_size=0.5, random_state=42)"
   ],
   "metadata": {
    "collapsed": false,
    "ExecuteTime": {
     "end_time": "2023-11-08T15:23:07.410476600Z",
     "start_time": "2023-11-08T15:23:07.258275Z"
    }
   },
   "id": "2078c834cb7bfe70"
  },
  {
   "cell_type": "code",
   "execution_count": 255,
   "outputs": [
    {
     "name": "stdout",
     "output_type": "stream",
     "text": [
      "Tvar trénovacej množiny X_train: (9229, 44)\n",
      "Tvar trénovacej množiny y_train: (9229,)\n",
      "Tvar validačnej množiny X_val: (1154, 44)\n",
      "Tvar validačnej množiny y_val: (1154,)\n",
      "Tvar testovacej množiny X_test: (1154, 44)\n",
      "Tvar testovacej množiny y_test: (1154,)\n"
     ]
    }
   ],
   "source": [
    "# Zobrazenie tvaru (počtu riadkov a stľpcov) trénovacej množiny\n",
    "print(\"Tvar trénovacej množiny X_train:\", X_train.shape)\n",
    "print(\"Tvar trénovacej množiny y_train:\", y_train.shape)\n",
    "\n",
    "# Zobrazenie tvaru validačnej množiny\n",
    "print(\"Tvar validačnej množiny X_val:\", X_val.shape)\n",
    "print(\"Tvar validačnej množiny y_val:\", y_val.shape)\n",
    "\n",
    "# Zobrazenie tvaru testovacej množiny\n",
    "print(\"Tvar testovacej množiny X_test:\", X_test.shape)\n",
    "print(\"Tvar testovacej množiny y_test:\", y_test.shape)"
   ],
   "metadata": {
    "collapsed": false,
    "ExecuteTime": {
     "end_time": "2023-11-08T15:23:07.511466300Z",
     "start_time": "2023-11-08T15:23:07.410476600Z"
    }
   },
   "id": "ded7a154b6d5ecca"
  },
  {
   "cell_type": "code",
   "execution_count": 256,
   "outputs": [],
   "source": [
    "# Vytvorenie a nastavenie scaleru na trénovacie dáta\n",
    "scaler = MinMaxScaler()\n",
    "scaler.fit(X_train)\n",
    "\n",
    "# Normalizácia trénovacích dát\n",
    "X_train_normalized = scaler.transform(X_train)\n",
    "\n",
    "# Použitie toho istého scaleru na validačné dáta a testovacie dáta\n",
    "X_val_normalized = scaler.transform(X_val)\n",
    "X_test_normalized = scaler.transform(X_test)"
   ],
   "metadata": {
    "collapsed": false,
    "ExecuteTime": {
     "end_time": "2023-11-08T15:23:07.868212500Z",
     "start_time": "2023-11-08T15:23:07.621268800Z"
    }
   },
   "id": "26e57d9fce689233"
  },
  {
   "cell_type": "code",
   "execution_count": 257,
   "outputs": [
    {
     "name": "stdout",
     "output_type": "stream",
     "text": [
      "[[0.45846154 0.96597979 0.91402009 ... 0.         0.         0.        ]\n",
      " [0.24717949 0.19051917 0.59683693 ... 0.         0.         0.        ]\n",
      " [0.88205128 0.76185854 0.95539645 ... 0.         0.         0.        ]\n",
      " ...\n",
      " [0.31794872 0.82789777 0.86138064 ... 0.         0.         0.        ]\n",
      " [0.4174359  0.92595602 0.91500321 ... 0.         0.         0.        ]\n",
      " [0.41230769 0.02982372 0.48783928 ... 0.         0.         0.        ]]\n",
      "[[0.54871795 0.9289578  0.92164993 ... 0.         0.         0.        ]\n",
      " [0.53128205 0.30358633 0.64274418 ... 0.         1.         0.        ]\n",
      " [0.50974359 0.69581932 0.780701   ... 0.         0.         0.        ]\n",
      " ...\n",
      " [0.58666667 0.83490193 0.87251549 ... 0.         0.         0.        ]\n",
      " [0.50974359 0.97698633 0.78172686 ... 0.         0.         0.        ]\n",
      " [0.74153846 0.87992868 0.91384911 ... 0.         0.         0.        ]]\n"
     ]
    }
   ],
   "source": [
    "print(X_val_normalized)\n",
    "print(X_test_normalized)"
   ],
   "metadata": {
    "collapsed": false,
    "ExecuteTime": {
     "end_time": "2023-11-08T15:23:08.164888200Z",
     "start_time": "2023-11-08T15:23:07.963561800Z"
    }
   },
   "id": "bb567527be7dc3bf"
  },
  {
   "cell_type": "code",
   "execution_count": 258,
   "outputs": [
    {
     "name": "stderr",
     "output_type": "stream",
     "text": [
      "C:\\Users\\boetf\\Desktop\\Vyska - skripta\\ING\\4.rocnik\\zimny semester\\SUNS\\SUNS-zadanie-1\\venv\\Lib\\site-packages\\sklearn\\neural_network\\_multilayer_perceptron.py:691: ConvergenceWarning: Stochastic Optimizer: Maximum iterations (100) reached and the optimization hasn't converged yet.\n",
      "  warnings.warn(\n"
     ]
    }
   ],
   "source": [
    "# Vytvorenie a nastavenie jednoduchej neurónovej siete pre klasifikáciu\n",
    "model = MLPClassifier(hidden_layer_sizes=(100, ), activation='relu', solver='adam', max_iter=100, random_state=42)\n",
    "\n",
    "# Trénovanie modelu na trénovacích dátach\n",
    "model.fit(X_train_normalized, y_train)\n",
    "\n",
    "# Predikcia na validačných dátach\n",
    "y_val_pred = model.predict(X_val_normalized)"
   ],
   "metadata": {
    "collapsed": false,
    "ExecuteTime": {
     "end_time": "2023-11-08T15:23:14.501885200Z",
     "start_time": "2023-11-08T15:23:07.976889300Z"
    }
   },
   "id": "d3eecbb19d299719"
  },
  {
   "cell_type": "code",
   "execution_count": 259,
   "outputs": [
    {
     "name": "stdout",
     "output_type": "stream",
     "text": [
      "Úspešnosť na trénovacej množine: 0.8860114855347275\n",
      "Úspešnosť na testovacej množine: 0.8821490467937608\n"
     ]
    }
   ],
   "source": [
    "from sklearn.metrics import accuracy_score\n",
    "\n",
    "y_train_pred = model.predict(X_train_normalized)\n",
    "y_test_pred = model.predict(X_test_normalized)\n",
    "\n",
    "accuracy_train = accuracy_score(y_train, y_train_pred) \n",
    "accuracy_test = accuracy_score(y_test, y_test_pred)\n",
    "\n",
    "print(\"Úspešnosť na trénovacej množine:\", accuracy_train)\n",
    "print(\"Úspešnosť na testovacej množine:\", accuracy_test)\n"
   ],
   "metadata": {
    "collapsed": false,
    "ExecuteTime": {
     "end_time": "2023-11-08T15:23:14.603598600Z",
     "start_time": "2023-11-08T15:23:14.529555200Z"
    }
   },
   "id": "89a4bd001b1a21c2"
  },
  {
   "cell_type": "code",
   "execution_count": 260,
   "outputs": [
    {
     "name": "stdout",
     "output_type": "stream",
     "text": [
      "Konfúzna matica na trénovacej množine:\n",
      " [[2062    0    8   56]\n",
      " [   1 1960  184   27]\n",
      " [   7  204 2241  178]\n",
      " [  90   57  240 1914]]\n",
      "Konfúzna matica na testovacej množine:\n",
      " [[264   0   1  12]\n",
      " [  0 237  17   1]\n",
      " [  0  36 283  25]\n",
      " [  8   7  29 234]]\n"
     ]
    }
   ],
   "source": [
    "from sklearn.metrics import confusion_matrix\n",
    "\n",
    "confusion_train = confusion_matrix(y_train, y_train_pred)\n",
    "confusion_test = confusion_matrix(y_test, y_test_pred)\n",
    "\n",
    "print(\"Konfúzna matica na trénovacej množine:\\n\", confusion_train)\n",
    "print(\"Konfúzna matica na testovacej množine:\\n\", confusion_test)\n"
   ],
   "metadata": {
    "collapsed": false,
    "ExecuteTime": {
     "end_time": "2023-11-08T15:23:14.651925500Z",
     "start_time": "2023-11-08T15:23:14.607605600Z"
    }
   },
   "id": "de90d5a858119b33"
  },
  {
   "cell_type": "code",
   "execution_count": 263,
   "outputs": [
    {
     "data": {
      "text/plain": "<Figure size 1000x1000 with 2 Axes>",
      "image/png": "[encoded data removed]"
     },
     "metadata": {},
     "output_type": "display_data"
    }
   ],
   "source": [
    "from sklearn.metrics import confusion_matrix, ConfusionMatrixDisplay\n",
    "\n",
    "cm_train = confusion_matrix(y_train, y_train_pred)\n",
    "\n",
    "disp = ConfusionMatrixDisplay(confusion_matrix=cm_train, display_labels=emotions)\n",
    "fig, ax = plt.subplots(figsize=(10,10))\n",
    "disp.plot(ax=ax)\n",
    "disp.ax_.set_title(\"Confusion matrix on train set\")\n",
    "disp.ax_.set(xlabel='Predicted', ylabel='True')\n",
    "plt.show()"
   ],
   "metadata": {
    "collapsed": false,
    "ExecuteTime": {
     "end_time": "2023-11-08T15:27:51.596734200Z",
     "start_time": "2023-11-08T15:27:51.279591400Z"
    }
   },
   "id": "a9866f687de6b1ad"
  }
 ],
 "metadata": {
  "kernelspec": {
   "display_name": "Python 3 (ipykernel)",
   "language": "python",
   "name": "python3"
  },
  "language_info": {
   "codemirror_mode": {
    "name": "ipython",
    "version": 3
   },
   "file_extension": ".py",
   "mimetype": "text/x-python",
   "name": "python",
   "nbconvert_exporter": "python",
   "pygments_lexer": "ipython3",
   "version": "3.11.0"
  }
 },
 "nbformat": 4,
 "nbformat_minor": 5
}
