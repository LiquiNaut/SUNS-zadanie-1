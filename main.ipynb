{
 "cells": [
  {
   "cell_type": "code",
   "execution_count": 2,
   "id": "initial_id",
   "metadata": {
    "ExecuteTime": {
     "end_time": "2023-11-06T17:06:18.211311041Z",
     "start_time": "2023-11-06T17:06:16.442011703Z"
    }
   },
   "outputs": [],
   "source": [
    "import dask.dataframe as dd"
   ]
  },
  {
   "cell_type": "code",
   "execution_count": 14,
   "id": "f3e6bd29fc2c8fa9",
   "metadata": {
    "ExecuteTime": {
     "end_time": "2023-11-06T17:56:41.548013836Z",
     "start_time": "2023-11-06T17:56:36.670498718Z"
    },
    "collapsed": false,
    "jupyter": {
     "outputs_hidden": false
    }
   },
   "outputs": [],
   "source": [
    "import seaborn as sns"
   ]
  },
  {
   "cell_type": "code",
   "execution_count": 4,
   "id": "bd1bb817ccbc8638",
   "metadata": {
    "ExecuteTime": {
     "end_time": "2023-11-06T17:06:19.781767777Z",
     "start_time": "2023-11-06T17:06:19.684330275Z"
    },
    "collapsed": false,
    "jupyter": {
     "outputs_hidden": false
    }
   },
   "outputs": [],
   "source": [
    "# Definujte cestu k CSV súboru s datasetom Iris\n",
    "songs_dataset = \"zadanie1_dataset.csv\"\n",
    "\n",
    "# Načítajte dataset s použitím Dask\n",
    "df = dd.read_csv(songs_dataset)"
   ]
  },
  {
   "cell_type": "code",
   "execution_count": 6,
   "id": "e8adaff7d768e0af",
   "metadata": {
    "ExecuteTime": {
     "end_time": "2023-11-06T17:06:34.238550350Z",
     "start_time": "2023-11-06T17:06:34.225136545Z"
    },
    "collapsed": false,
    "jupyter": {
     "outputs_hidden": false
    }
   },
   "outputs": [
    {
     "data": {
      "text/plain": [
       "Index(['danceability', 'energy', 'loudness', 'speechiness', 'acousticness',\n",
       "       'instrumentalness', 'liveness', 'valence', 'tempo', 'duration_ms',\n",
       "       'popularity', 'number_of_artists', 'explicit', 'name', 'url', 'genres',\n",
       "       'filtered_genres', 'top_genre', 'emotion'],\n",
       "      dtype='object')"
      ]
     },
     "execution_count": 6,
     "metadata": {},
     "output_type": "execute_result"
    }
   ],
   "source": [
    "df.columns"
   ]
  },
  {
   "cell_type": "code",
   "execution_count": 7,
   "id": "89c3df08825ae45",
   "metadata": {
    "ExecuteTime": {
     "end_time": "2023-11-06T17:06:37.954241477Z",
     "start_time": "2023-11-06T17:06:37.909296052Z"
    },
    "collapsed": false,
    "jupyter": {
     "outputs_hidden": false
    }
   },
   "outputs": [
    {
     "data": {
      "text/plain": [
       "danceability                 float64\n",
       "energy                       float64\n",
       "loudness                     float64\n",
       "speechiness                  float64\n",
       "acousticness                 float64\n",
       "instrumentalness             float64\n",
       "liveness                     float64\n",
       "valence                      float64\n",
       "tempo                        float64\n",
       "duration_ms                  float64\n",
       "popularity                   float64\n",
       "number_of_artists            float64\n",
       "explicit                        bool\n",
       "name                 string[pyarrow]\n",
       "url                  string[pyarrow]\n",
       "genres               string[pyarrow]\n",
       "filtered_genres      string[pyarrow]\n",
       "top_genre            string[pyarrow]\n",
       "emotion              string[pyarrow]\n",
       "dtype: object"
      ]
     },
     "execution_count": 7,
     "metadata": {},
     "output_type": "execute_result"
    }
   ],
   "source": [
    "df.dtypes"
   ]
  },
  {
   "cell_type": "code",
   "execution_count": 10,
   "id": "2166a3bd6a7dc094",
   "metadata": {
    "ExecuteTime": {
     "end_time": "2023-11-06T17:09:02.422836068Z",
     "start_time": "2023-11-06T17:09:01.838154793Z"
    },
    "collapsed": false,
    "jupyter": {
     "outputs_hidden": false
    }
   },
   "outputs": [
    {
     "data": {
      "text/html": [
       "<div>\n",
       "<style scoped>\n",
       "    .dataframe tbody tr th:only-of-type {\n",
       "        vertical-align: middle;\n",
       "    }\n",
       "\n",
       "    .dataframe tbody tr th {\n",
       "        vertical-align: top;\n",
       "    }\n",
       "\n",
       "    .dataframe thead th {\n",
       "        text-align: right;\n",
       "    }\n",
       "</style>\n",
       "<table border=\"1\" class=\"dataframe\">\n",
       "  <thead>\n",
       "    <tr style=\"text-align: right;\">\n",
       "      <th></th>\n",
       "      <th>danceability</th>\n",
       "      <th>energy</th>\n",
       "      <th>loudness</th>\n",
       "      <th>speechiness</th>\n",
       "      <th>acousticness</th>\n",
       "      <th>instrumentalness</th>\n",
       "      <th>liveness</th>\n",
       "      <th>valence</th>\n",
       "      <th>tempo</th>\n",
       "      <th>duration_ms</th>\n",
       "      <th>popularity</th>\n",
       "      <th>number_of_artists</th>\n",
       "    </tr>\n",
       "  </thead>\n",
       "  <tbody>\n",
       "    <tr>\n",
       "      <th>count</th>\n",
       "      <td>11960.000000</td>\n",
       "      <td>11960.000000</td>\n",
       "      <td>11960.000000</td>\n",
       "      <td>11960.000000</td>\n",
       "      <td>11960.000000</td>\n",
       "      <td>11960.000000</td>\n",
       "      <td>11960.000000</td>\n",
       "      <td>11960.000000</td>\n",
       "      <td>11960.000000</td>\n",
       "      <td>1.196000e+04</td>\n",
       "      <td>11843.000000</td>\n",
       "      <td>11839.000000</td>\n",
       "    </tr>\n",
       "    <tr>\n",
       "      <th>mean</th>\n",
       "      <td>0.479550</td>\n",
       "      <td>0.529783</td>\n",
       "      <td>-12.372094</td>\n",
       "      <td>0.104329</td>\n",
       "      <td>0.483605</td>\n",
       "      <td>0.264986</td>\n",
       "      <td>0.224383</td>\n",
       "      <td>0.461312</td>\n",
       "      <td>117.749858</td>\n",
       "      <td>1.094073e+06</td>\n",
       "      <td>25.131892</td>\n",
       "      <td>1.714756</td>\n",
       "    </tr>\n",
       "    <tr>\n",
       "      <th>std</th>\n",
       "      <td>0.273845</td>\n",
       "      <td>0.333071</td>\n",
       "      <td>8.265012</td>\n",
       "      <td>0.191664</td>\n",
       "      <td>0.404506</td>\n",
       "      <td>0.377885</td>\n",
       "      <td>0.212392</td>\n",
       "      <td>0.276219</td>\n",
       "      <td>32.029332</td>\n",
       "      <td>3.321775e+07</td>\n",
       "      <td>21.072017</td>\n",
       "      <td>1.276377</td>\n",
       "    </tr>\n",
       "    <tr>\n",
       "      <th>min</th>\n",
       "      <td>0.000000</td>\n",
       "      <td>0.000197</td>\n",
       "      <td>-47.046000</td>\n",
       "      <td>0.000000</td>\n",
       "      <td>0.000000</td>\n",
       "      <td>0.000000</td>\n",
       "      <td>0.009670</td>\n",
       "      <td>0.000000</td>\n",
       "      <td>0.000000</td>\n",
       "      <td>-4.273460e+05</td>\n",
       "      <td>0.000000</td>\n",
       "      <td>1.000000</td>\n",
       "    </tr>\n",
       "    <tr>\n",
       "      <th>25%</th>\n",
       "      <td>0.338000</td>\n",
       "      <td>0.186000</td>\n",
       "      <td>-17.865000</td>\n",
       "      <td>0.037300</td>\n",
       "      <td>0.036500</td>\n",
       "      <td>0.000003</td>\n",
       "      <td>0.095800</td>\n",
       "      <td>0.221000</td>\n",
       "      <td>92.775250</td>\n",
       "      <td>1.692098e+05</td>\n",
       "      <td>3.000000</td>\n",
       "      <td>1.000000</td>\n",
       "    </tr>\n",
       "    <tr>\n",
       "      <th>50%</th>\n",
       "      <td>0.485000</td>\n",
       "      <td>0.595000</td>\n",
       "      <td>-9.537000</td>\n",
       "      <td>0.045900</td>\n",
       "      <td>0.468000</td>\n",
       "      <td>0.002670</td>\n",
       "      <td>0.130000</td>\n",
       "      <td>0.461000</td>\n",
       "      <td>116.153500</td>\n",
       "      <td>2.134530e+05</td>\n",
       "      <td>24.000000</td>\n",
       "      <td>1.000000</td>\n",
       "    </tr>\n",
       "    <tr>\n",
       "      <th>75%</th>\n",
       "      <td>0.608000</td>\n",
       "      <td>0.841000</td>\n",
       "      <td>-5.834000</td>\n",
       "      <td>0.070100</td>\n",
       "      <td>0.923000</td>\n",
       "      <td>0.678250</td>\n",
       "      <td>0.280000</td>\n",
       "      <td>0.688250</td>\n",
       "      <td>137.525250</td>\n",
       "      <td>2.739330e+05</td>\n",
       "      <td>42.000000</td>\n",
       "      <td>2.000000</td>\n",
       "    </tr>\n",
       "    <tr>\n",
       "      <th>max</th>\n",
       "      <td>8.375000</td>\n",
       "      <td>1.000000</td>\n",
       "      <td>1.519000</td>\n",
       "      <td>0.965000</td>\n",
       "      <td>0.996000</td>\n",
       "      <td>0.994000</td>\n",
       "      <td>0.997000</td>\n",
       "      <td>0.995000</td>\n",
       "      <td>241.423000</td>\n",
       "      <td>1.930821e+09</td>\n",
       "      <td>82.000000</td>\n",
       "      <td>19.000000</td>\n",
       "    </tr>\n",
       "  </tbody>\n",
       "</table>\n",
       "</div>"
      ],
      "text/plain": [
       "       danceability        energy      loudness   speechiness  acousticness  \\\n",
       "count  11960.000000  11960.000000  11960.000000  11960.000000  11960.000000   \n",
       "mean       0.479550      0.529783    -12.372094      0.104329      0.483605   \n",
       "std        0.273845      0.333071      8.265012      0.191664      0.404506   \n",
       "min        0.000000      0.000197    -47.046000      0.000000      0.000000   \n",
       "25%        0.338000      0.186000    -17.865000      0.037300      0.036500   \n",
       "50%        0.485000      0.595000     -9.537000      0.045900      0.468000   \n",
       "75%        0.608000      0.841000     -5.834000      0.070100      0.923000   \n",
       "max        8.375000      1.000000      1.519000      0.965000      0.996000   \n",
       "\n",
       "       instrumentalness      liveness       valence         tempo  \\\n",
       "count      11960.000000  11960.000000  11960.000000  11960.000000   \n",
       "mean           0.264986      0.224383      0.461312    117.749858   \n",
       "std            0.377885      0.212392      0.276219     32.029332   \n",
       "min            0.000000      0.009670      0.000000      0.000000   \n",
       "25%            0.000003      0.095800      0.221000     92.775250   \n",
       "50%            0.002670      0.130000      0.461000    116.153500   \n",
       "75%            0.678250      0.280000      0.688250    137.525250   \n",
       "max            0.994000      0.997000      0.995000    241.423000   \n",
       "\n",
       "        duration_ms    popularity  number_of_artists  \n",
       "count  1.196000e+04  11843.000000       11839.000000  \n",
       "mean   1.094073e+06     25.131892           1.714756  \n",
       "std    3.321775e+07     21.072017           1.276377  \n",
       "min   -4.273460e+05      0.000000           1.000000  \n",
       "25%    1.692098e+05      3.000000           1.000000  \n",
       "50%    2.134530e+05     24.000000           1.000000  \n",
       "75%    2.739330e+05     42.000000           2.000000  \n",
       "max    1.930821e+09     82.000000          19.000000  "
      ]
     },
     "execution_count": 10,
     "metadata": {},
     "output_type": "execute_result"
    }
   ],
   "source": [
    "df.describe().compute()"
   ]
  },
  {
   "cell_type": "code",
   "execution_count": 20,
   "id": "6e2205eee62a9e7",
   "metadata": {
    "ExecuteTime": {
     "end_time": "2023-11-06T17:57:21.918224351Z",
     "start_time": "2023-11-06T17:57:18.888960430Z"
    },
    "collapsed": false,
    "jupyter": {
     "outputs_hidden": false
    }
   },
   "outputs": [
    {
     "data": {
      "text/plain": [
       "<seaborn.axisgrid.FacetGrid at 0x7fd55d1dab00>"
      ]
     },
     "execution_count": 20,
     "metadata": {},
     "output_type": "execute_result"
    },
    {
     "data": {
      "image/png": "[encoded data removed]",
      "text/plain": [
       "<Figure size 500x500 with 1 Axes>"
      ]
     },
     "metadata": {},
     "output_type": "display_data"
    }
   ],
   "source": [
    "sns.displot(df['danceability'])"
   ]
  },
  {
   "cell_type": "code",
   "execution_count": 15,
   "id": "206bf24d-9649-4d3c-87e5-bce8523b0443",
   "metadata": {},
   "outputs": [
    {
     "data": {
      "text/plain": [
       "<Axes: >"
      ]
     },
     "execution_count": 15,
     "metadata": {},
     "output_type": "execute_result"
    },
    {
     "data": {
      "image/png": "[encoded data removed]",
      "text/plain": [
       "<Figure size 640x480 with 1 Axes>"
      ]
     },
     "metadata": {},
     "output_type": "display_data"
    }
   ],
   "source": [
    "sns.boxplot(df['danceability'])"
   ]
  }
 ],
 "metadata": {
  "kernelspec": {
   "display_name": "Python 3 (ipykernel)",
   "language": "python",
   "name": "python3"
  },
  "language_info": {
   "codemirror_mode": {
    "name": "ipython",
    "version": 3
   },
   "file_extension": ".py",
   "mimetype": "text/x-python",
   "name": "python",
   "nbconvert_exporter": "python",
   "pygments_lexer": "ipython3",
   "version": "3.10.12"
  }
 },
 "nbformat": 4,
 "nbformat_minor": 5
}
