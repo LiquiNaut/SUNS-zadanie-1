{
 "cells": [
  {
   "cell_type": "code",
   "execution_count": 42,
   "id": "initial_id",
   "metadata": {
    "ExecuteTime": {
     "end_time": "2023-11-06T23:15:42.716992900Z",
     "start_time": "2023-11-06T23:15:42.692542100Z"
    }
   },
   "outputs": [],
   "source": [
    "import pandas as pd"
   ]
  },
  {
   "cell_type": "code",
   "execution_count": 43,
   "id": "f3e6bd29fc2c8fa9",
   "metadata": {
    "collapsed": false,
    "ExecuteTime": {
     "end_time": "2023-11-06T23:15:43.288694400Z",
     "start_time": "2023-11-06T23:15:43.272023Z"
    }
   },
   "outputs": [],
   "source": [
    "import seaborn as sns"
   ]
  },
  {
   "cell_type": "code",
   "execution_count": 68,
   "outputs": [],
   "source": [
    "from sklearn.model_selection import train_test_split"
   ],
   "metadata": {
    "collapsed": false,
    "ExecuteTime": {
     "end_time": "2023-11-07T00:48:33.980772900Z",
     "start_time": "2023-11-07T00:48:33.363458500Z"
    }
   },
   "id": "5ef858a0bafd2d92"
  },
  {
   "cell_type": "code",
   "execution_count": 72,
   "outputs": [],
   "source": [
    "from sklearn.preprocessing import MinMaxScaler"
   ],
   "metadata": {
    "collapsed": false,
    "ExecuteTime": {
     "end_time": "2023-11-07T01:16:59.044406200Z",
     "start_time": "2023-11-07T01:16:59.022651100Z"
    }
   },
   "id": "d7ff01e8711eac1"
  },
  {
   "cell_type": "code",
   "execution_count": 77,
   "outputs": [],
   "source": [
    "from sklearn.neural_network import MLPClassifier"
   ],
   "metadata": {
    "collapsed": false,
    "ExecuteTime": {
     "end_time": "2023-11-07T01:45:39.918240800Z",
     "start_time": "2023-11-07T01:45:39.863679700Z"
    }
   },
   "id": "58bbaebde7b77303"
  },
  {
   "cell_type": "code",
   "execution_count": 45,
   "id": "bd1bb817ccbc8638",
   "metadata": {
    "collapsed": false,
    "ExecuteTime": {
     "end_time": "2023-11-06T23:15:44.930262800Z",
     "start_time": "2023-11-06T23:15:44.846744500Z"
    }
   },
   "outputs": [],
   "source": [
    "# Definujte cestu k CSV súboru s datasetom Iris\n",
    "songs_dataset = \"zadanie1_dataset_number_only.csv\"\n",
    "\n",
    "# Načítajte dataset s použitím Pandas\n",
    "df = pd.read_csv(songs_dataset)"
   ]
  },
  {
   "cell_type": "code",
   "execution_count": 46,
   "id": "e8adaff7d768e0af",
   "metadata": {
    "collapsed": false,
    "ExecuteTime": {
     "end_time": "2023-11-06T23:15:45.606082200Z",
     "start_time": "2023-11-06T23:15:45.585870300Z"
    }
   },
   "outputs": [
    {
     "data": {
      "text/plain": "Index(['danceability', 'energy', 'loudness', 'speechiness', 'acousticness',\n       'instrumentalness', 'liveness', 'valence', 'tempo', 'duration_ms',\n       'popularity', 'number_of_artists'],\n      dtype='object')"
     },
     "execution_count": 46,
     "metadata": {},
     "output_type": "execute_result"
    }
   ],
   "source": [
    "df.columns"
   ]
  },
  {
   "cell_type": "code",
   "execution_count": 48,
   "id": "89c3df08825ae45",
   "metadata": {
    "collapsed": false,
    "ExecuteTime": {
     "end_time": "2023-11-06T23:15:54.490433800Z",
     "start_time": "2023-11-06T23:15:54.449226700Z"
    }
   },
   "outputs": [
    {
     "data": {
      "text/plain": "danceability         float64\nenergy               float64\nloudness             float64\nspeechiness          float64\nacousticness         float64\ninstrumentalness     float64\nliveness             float64\nvalence              float64\ntempo                float64\nduration_ms          float64\npopularity           float64\nnumber_of_artists    float64\ndtype: object"
     },
     "execution_count": 48,
     "metadata": {},
     "output_type": "execute_result"
    }
   ],
   "source": [
    "df.dtypes"
   ]
  },
  {
   "cell_type": "code",
   "execution_count": 49,
   "id": "2166a3bd6a7dc094",
   "metadata": {
    "collapsed": false,
    "ExecuteTime": {
     "end_time": "2023-11-06T23:15:55.876232100Z",
     "start_time": "2023-11-06T23:15:55.797293900Z"
    }
   },
   "outputs": [
    {
     "data": {
      "text/plain": "       danceability        energy      loudness   speechiness  acousticness  \\\ncount  11960.000000  11960.000000  11960.000000  11960.000000  11960.000000   \nmean       0.479550      0.529783    -12.372094      0.104329      0.483605   \nstd        0.273845      0.333071      8.265012      0.191664      0.404506   \nmin        0.000000      0.000197    -47.046000      0.000000      0.000000   \n25%        0.338000      0.186000    -17.865000      0.037300      0.036500   \n50%        0.485000      0.595000     -9.537000      0.045900      0.468000   \n75%        0.608000      0.841000     -5.834000      0.070100      0.923000   \nmax        8.375000      1.000000      1.519000      0.965000      0.996000   \n\n       instrumentalness      liveness       valence         tempo  \\\ncount      11960.000000  11960.000000  11960.000000  11960.000000   \nmean           0.264986      0.224383      0.461312    117.749858   \nstd            0.377885      0.212392      0.276219     32.029332   \nmin            0.000000      0.009670      0.000000      0.000000   \n25%            0.000003      0.095800      0.221000     92.775250   \n50%            0.002670      0.130000      0.461000    116.153500   \n75%            0.678250      0.280000      0.688250    137.525250   \nmax            0.994000      0.997000      0.995000    241.423000   \n\n        duration_ms    popularity  number_of_artists  \ncount  1.196000e+04  11843.000000       11839.000000  \nmean   1.094073e+06     25.131892           1.714756  \nstd    3.321775e+07     21.072017           1.276377  \nmin   -4.273460e+05      0.000000           1.000000  \n25%    1.692098e+05      3.000000           1.000000  \n50%    2.134530e+05     24.000000           1.000000  \n75%    2.739330e+05     42.000000           2.000000  \nmax    1.930821e+09     82.000000          19.000000  ",
      "text/html": "<div>\n<style scoped>\n    .dataframe tbody tr th:only-of-type {\n        vertical-align: middle;\n    }\n\n    .dataframe tbody tr th {\n        vertical-align: top;\n    }\n\n    .dataframe thead th {\n        text-align: right;\n    }\n</style>\n<table border=\"1\" class=\"dataframe\">\n  <thead>\n    <tr style=\"text-align: right;\">\n      <th></th>\n      <th>danceability</th>\n      <th>energy</th>\n      <th>loudness</th>\n      <th>speechiness</th>\n      <th>acousticness</th>\n      <th>instrumentalness</th>\n      <th>liveness</th>\n      <th>valence</th>\n      <th>tempo</th>\n      <th>duration_ms</th>\n      <th>popularity</th>\n      <th>number_of_artists</th>\n    </tr>\n  </thead>\n  <tbody>\n    <tr>\n      <th>count</th>\n      <td>11960.000000</td>\n      <td>11960.000000</td>\n      <td>11960.000000</td>\n      <td>11960.000000</td>\n      <td>11960.000000</td>\n      <td>11960.000000</td>\n      <td>11960.000000</td>\n      <td>11960.000000</td>\n      <td>11960.000000</td>\n      <td>1.196000e+04</td>\n      <td>11843.000000</td>\n      <td>11839.000000</td>\n    </tr>\n    <tr>\n      <th>mean</th>\n      <td>0.479550</td>\n      <td>0.529783</td>\n      <td>-12.372094</td>\n      <td>0.104329</td>\n      <td>0.483605</td>\n      <td>0.264986</td>\n      <td>0.224383</td>\n      <td>0.461312</td>\n      <td>117.749858</td>\n      <td>1.094073e+06</td>\n      <td>25.131892</td>\n      <td>1.714756</td>\n    </tr>\n    <tr>\n      <th>std</th>\n      <td>0.273845</td>\n      <td>0.333071</td>\n      <td>8.265012</td>\n      <td>0.191664</td>\n      <td>0.404506</td>\n      <td>0.377885</td>\n      <td>0.212392</td>\n      <td>0.276219</td>\n      <td>32.029332</td>\n      <td>3.321775e+07</td>\n      <td>21.072017</td>\n      <td>1.276377</td>\n    </tr>\n    <tr>\n      <th>min</th>\n      <td>0.000000</td>\n      <td>0.000197</td>\n      <td>-47.046000</td>\n      <td>0.000000</td>\n      <td>0.000000</td>\n      <td>0.000000</td>\n      <td>0.009670</td>\n      <td>0.000000</td>\n      <td>0.000000</td>\n      <td>-4.273460e+05</td>\n      <td>0.000000</td>\n      <td>1.000000</td>\n    </tr>\n    <tr>\n      <th>25%</th>\n      <td>0.338000</td>\n      <td>0.186000</td>\n      <td>-17.865000</td>\n      <td>0.037300</td>\n      <td>0.036500</td>\n      <td>0.000003</td>\n      <td>0.095800</td>\n      <td>0.221000</td>\n      <td>92.775250</td>\n      <td>1.692098e+05</td>\n      <td>3.000000</td>\n      <td>1.000000</td>\n    </tr>\n    <tr>\n      <th>50%</th>\n      <td>0.485000</td>\n      <td>0.595000</td>\n      <td>-9.537000</td>\n      <td>0.045900</td>\n      <td>0.468000</td>\n      <td>0.002670</td>\n      <td>0.130000</td>\n      <td>0.461000</td>\n      <td>116.153500</td>\n      <td>2.134530e+05</td>\n      <td>24.000000</td>\n      <td>1.000000</td>\n    </tr>\n    <tr>\n      <th>75%</th>\n      <td>0.608000</td>\n      <td>0.841000</td>\n      <td>-5.834000</td>\n      <td>0.070100</td>\n      <td>0.923000</td>\n      <td>0.678250</td>\n      <td>0.280000</td>\n      <td>0.688250</td>\n      <td>137.525250</td>\n      <td>2.739330e+05</td>\n      <td>42.000000</td>\n      <td>2.000000</td>\n    </tr>\n    <tr>\n      <th>max</th>\n      <td>8.375000</td>\n      <td>1.000000</td>\n      <td>1.519000</td>\n      <td>0.965000</td>\n      <td>0.996000</td>\n      <td>0.994000</td>\n      <td>0.997000</td>\n      <td>0.995000</td>\n      <td>241.423000</td>\n      <td>1.930821e+09</td>\n      <td>82.000000</td>\n      <td>19.000000</td>\n    </tr>\n  </tbody>\n</table>\n</div>"
     },
     "execution_count": 49,
     "metadata": {},
     "output_type": "execute_result"
    }
   ],
   "source": [
    "df.describe()"
   ]
  },
  {
   "cell_type": "code",
   "execution_count": 50,
   "id": "6e2205eee62a9e7",
   "metadata": {
    "collapsed": false,
    "ExecuteTime": {
     "end_time": "2023-11-06T23:16:00.212988900Z",
     "start_time": "2023-11-06T23:15:59.229360600Z"
    }
   },
   "outputs": [
    {
     "data": {
      "text/plain": "<seaborn.axisgrid.FacetGrid at 0x159f94eba10>"
     },
     "execution_count": 50,
     "metadata": {},
     "output_type": "execute_result"
    },
    {
     "data": {
      "text/plain": "<Figure size 500x500 with 1 Axes>",
      "image/png": "[encoded data removed]"
     },
     "metadata": {},
     "output_type": "display_data"
    }
   ],
   "source": [
    "sns.displot(df['danceability'])"
   ]
  },
  {
   "cell_type": "code",
   "execution_count": 51,
   "id": "206bf24d-9649-4d3c-87e5-bce8523b0443",
   "metadata": {
    "ExecuteTime": {
     "end_time": "2023-11-06T23:16:06.128158500Z",
     "start_time": "2023-11-06T23:16:05.882907600Z"
    }
   },
   "outputs": [
    {
     "data": {
      "text/plain": "<Axes: ylabel='danceability'>"
     },
     "execution_count": 51,
     "metadata": {},
     "output_type": "execute_result"
    },
    {
     "data": {
      "text/plain": "<Figure size 640x480 with 1 Axes>",
      "image/png": "[encoded data removed]"
     },
     "metadata": {},
     "output_type": "display_data"
    }
   ],
   "source": [
    "sns.boxplot(df['danceability'])"
   ]
  },
  {
   "cell_type": "code",
   "execution_count": 52,
   "id": "b00871a97cf6432f",
   "metadata": {
    "collapsed": false,
    "ExecuteTime": {
     "end_time": "2023-11-06T23:16:15.611787200Z",
     "start_time": "2023-11-06T23:16:15.598078600Z"
    }
   },
   "outputs": [],
   "source": [
    "# Funkcia na odstránenie outlierov pomocou IQR pre všetky stĺpce\n",
    "def remove_outliers_iqr(dataframe):\n",
    "    # Vytvorenie prazdnej DataFrame pre výsledky\n",
    "    df_cleaned = pd.DataFrame()\n",
    "    \n",
    "    # Iterovanie cez všetky stĺpce v datasete\n",
    "    for column in dataframe.columns:\n",
    "        Q1 = dataframe[column].quantile(0.25)\n",
    "        Q3 = dataframe[column].quantile(0.75)\n",
    "        IQR = Q3 - Q1\n",
    "        lower_bound = Q1 - 1.5 * IQR\n",
    "        upper_bound = Q3 + 1.5 * IQR\n",
    "        df_cleaned[column] = dataframe[(dataframe[column] >= lower_bound) & (dataframe[column] <= upper_bound)][column]\n",
    "    \n",
    "    return df_cleaned"
   ]
  },
  {
   "cell_type": "code",
   "execution_count": 54,
   "id": "b8d524ff261efb32",
   "metadata": {
    "collapsed": false,
    "ExecuteTime": {
     "end_time": "2023-11-06T23:19:09.441761900Z",
     "start_time": "2023-11-06T23:19:09.353200Z"
    }
   },
   "outputs": [
    {
     "name": "stdout",
     "output_type": "stream",
     "text": [
      "before removing outliers: 11960\n",
      "after removing outliers: 11944\n",
      "outliers: 16\n",
      "Dataset bez outlierov:\n",
      "       danceability  energy  loudness  speechiness  acousticness  \\\n",
      "0             0.638   0.781    -6.848       0.0285        0.0118   \n",
      "1             0.744   0.816    -3.933       0.0372        0.1440   \n",
      "2             0.721   0.768    -4.371       0.0685        0.2100   \n",
      "3             0.700   0.782    -4.631       0.0542        0.4490   \n",
      "4             0.764   0.587    -7.002       0.0298        0.0721   \n",
      "...             ...     ...       ...          ...           ...   \n",
      "11955         0.442   0.379   -12.711       0.0264        0.9610   \n",
      "11956         0.485   0.226   -10.503       0.0278        0.9820   \n",
      "11957         0.741   0.338    -8.488       0.0432        0.9300   \n",
      "11958         0.493   0.773    -5.875       0.0452        0.4560   \n",
      "11959         0.702   0.792    -8.631       0.0325        0.3400   \n",
      "\n",
      "       instrumentalness  liveness  valence    tempo  duration_ms  popularity  \\\n",
      "0              0.009530    0.3490    0.250  122.985     194640.0        34.0   \n",
      "1              0.000009    0.0902    0.748  120.062     144000.0        52.0   \n",
      "2              0.008430    0.2620    0.468  124.076     179032.0        45.0   \n",
      "3              0.000000    0.1430    0.680  124.969     169901.0        46.0   \n",
      "4              0.000006    0.0940    0.494   89.980     229573.0        45.0   \n",
      "...                 ...       ...      ...      ...          ...         ...   \n",
      "11955          0.000567    0.2840    0.659   79.948     123733.0         0.0   \n",
      "11956          0.000000    0.0960    0.508  139.543     154160.0         0.0   \n",
      "11957          0.000001    0.1640    0.804  133.504     155626.0         0.0   \n",
      "11958          0.000003    0.1070    0.478  140.998     204640.0         0.0   \n",
      "11959          0.000081    0.1720    0.786  123.377     209400.0        40.0   \n",
      "\n",
      "       number_of_artists  \n",
      "0                    3.0  \n",
      "1                    3.0  \n",
      "2                    3.0  \n",
      "3                    3.0  \n",
      "4                    2.0  \n",
      "...                  ...  \n",
      "11955                1.0  \n",
      "11956                1.0  \n",
      "11957                1.0  \n",
      "11958                1.0  \n",
      "11959                1.0  \n",
      "\n",
      "[11944 rows x 12 columns]\n"
     ]
    }
   ],
   "source": [
    "# Zavolanie funkcie na odstránenie outlierov pre všetky stĺpce\n",
    "df_cleaned = remove_outliers_iqr(df)\n",
    "\n",
    "print('before removing outliers:', len(df))\n",
    "print('after removing outliers:',len(df_cleaned))\n",
    "print('outliers:', len(df)-len(df_cleaned))\n",
    "\n",
    "print(\"Dataset bez outlierov:\")\n",
    "print(df_cleaned)"
   ]
  },
  {
   "cell_type": "code",
   "execution_count": 120,
   "outputs": [
    {
     "data": {
      "text/plain": "danceability            0\nenergy                  0\nloudness               94\nspeechiness          1556\nacousticness            0\ninstrumentalness        0\nliveness             1130\nvalence                 0\ntempo                  41\nduration_ms           736\npopularity            116\nnumber_of_artists    1107\ndtype: int64"
     },
     "execution_count": 120,
     "metadata": {},
     "output_type": "execute_result"
    }
   ],
   "source": [
    "df_cleaned.isnull().sum()"
   ],
   "metadata": {
    "collapsed": false,
    "ExecuteTime": {
     "end_time": "2023-11-07T02:14:28.087110Z",
     "start_time": "2023-11-07T02:14:28.063996900Z"
    }
   },
   "id": "16c0554edf777571"
  },
  {
   "cell_type": "code",
   "execution_count": 121,
   "outputs": [
    {
     "name": "stdout",
     "output_type": "stream",
     "text": [
      "Počet hodnôt pre jednotlivé stĺpce:\n",
      "Stĺpec 'danceability' obsahuje 11960 hodnôt.\n",
      "Stĺpec 'energy' obsahuje 11960 hodnôt.\n",
      "Stĺpec 'loudness' obsahuje 11960 hodnôt.\n",
      "Stĺpec 'speechiness' obsahuje 11960 hodnôt.\n",
      "Stĺpec 'acousticness' obsahuje 11960 hodnôt.\n",
      "Stĺpec 'instrumentalness' obsahuje 11960 hodnôt.\n",
      "Stĺpec 'liveness' obsahuje 11960 hodnôt.\n",
      "Stĺpec 'valence' obsahuje 11960 hodnôt.\n",
      "Stĺpec 'tempo' obsahuje 11960 hodnôt.\n",
      "Stĺpec 'duration_ms' obsahuje 11960 hodnôt.\n",
      "Stĺpec 'popularity' obsahuje 11843 hodnôt.\n",
      "Stĺpec 'number_of_artists' obsahuje 11839 hodnôt.\n"
     ]
    }
   ],
   "source": [
    "# Iterujte cez všetky stĺpce a získajte počet hodnôt pre každý stĺpec\n",
    "pocet_hodnot_pre_stlpce = {}\n",
    "for column in df.columns:\n",
    "    pocet_hodnot = df[column].count()\n",
    "    pocet_hodnot_pre_stlpce[column] = pocet_hodnot\n",
    "\n",
    "# Výsledky počtu hodnôt pre všetky stĺpce\n",
    "print(\"Počet hodnôt pre jednotlivé stĺpce:\")\n",
    "for column, pocet_hodnot in pocet_hodnot_pre_stlpce.items():\n",
    "    print(f\"Stĺpec '{column}' obsahuje {pocet_hodnot} hodnôt.\")"
   ],
   "metadata": {
    "collapsed": false,
    "ExecuteTime": {
     "end_time": "2023-11-07T02:14:30.136761100Z",
     "start_time": "2023-11-07T02:14:30.114677600Z"
    }
   },
   "id": "abcf7668bce480dd"
  },
  {
   "cell_type": "code",
   "execution_count": 122,
   "outputs": [
    {
     "name": "stdout",
     "output_type": "stream",
     "text": [
      "pocet NULL hodnot:  238\n"
     ]
    }
   ],
   "source": [
    "# Identifikácia chýbajúcich hodnôt v datasete\n",
    "print(\"pocet NULL hodnot: \",df.isnull().sum().sum())"
   ],
   "metadata": {
    "collapsed": false,
    "ExecuteTime": {
     "end_time": "2023-11-07T02:14:31.881291100Z",
     "start_time": "2023-11-07T02:14:31.858529100Z"
    }
   },
   "id": "19fa46f2f7fbe149"
  },
  {
   "cell_type": "code",
   "execution_count": 123,
   "outputs": [],
   "source": [
    "df_without_nulls = df.dropna(how='any')"
   ],
   "metadata": {
    "collapsed": false,
    "ExecuteTime": {
     "end_time": "2023-11-07T02:14:32.821304300Z",
     "start_time": "2023-11-07T02:14:32.791901300Z"
    }
   },
   "id": "a5a4cb061e5d2198"
  },
  {
   "cell_type": "code",
   "execution_count": 124,
   "outputs": [
    {
     "name": "stdout",
     "output_type": "stream",
     "text": [
      "pocet NULL hodnot:  0\n"
     ]
    }
   ],
   "source": [
    "print(\"pocet NULL hodnot: \",df_without_nulls.isnull().sum().sum())"
   ],
   "metadata": {
    "collapsed": false,
    "ExecuteTime": {
     "end_time": "2023-11-07T02:14:33.612897200Z",
     "start_time": "2023-11-07T02:14:33.585983600Z"
    }
   },
   "id": "8664f53b15cc553c"
  },
  {
   "cell_type": "code",
   "execution_count": 125,
   "outputs": [],
   "source": [
    "# Rozdelenie dát do trénovacej (X_train, y_train), validačnej (X_val, y_val) a testovacej (X_test, y_test) množiny.\n",
    "# 'X' sú vstupné stĺpce a 'Y' je výstupný stĺpec.\n",
    "X = df[['danceability', 'energy', 'loudness', 'speechiness', 'acousticness', 'instrumentalness', 'liveness', 'valence', 'tempo', 'duration_ms']]\n",
    "y = df['popularity']\n",
    "\n",
    "# Rozdelenie dát na trénovaciu, validačnú a testovaciu množinu (napr. 70-15-15%)\n",
    "X_train, X_temp, y_train, y_temp = train_test_split(X, y, test_size=0.3, random_state=42)\n",
    "X_val, X_test, y_val, y_test = train_test_split(X_temp, y_temp, test_size=0.5, random_state=42)"
   ],
   "metadata": {
    "collapsed": false,
    "ExecuteTime": {
     "end_time": "2023-11-07T02:14:34.327586700Z",
     "start_time": "2023-11-07T02:14:34.284286Z"
    }
   },
   "id": "2078c834cb7bfe70"
  },
  {
   "cell_type": "code",
   "execution_count": 126,
   "outputs": [
    {
     "name": "stdout",
     "output_type": "stream",
     "text": [
      "Tvar trénovacej množiny X_train: (8372, 10)\n",
      "Tvar trénovacej množiny y_train: (8372,)\n",
      "Tvar validačnej množiny X_val: (1794, 10)\n",
      "Tvar validačnej množiny y_val: (1794,)\n",
      "Tvar testovacej množiny X_test: (1794, 10)\n",
      "Tvar testovacej množiny y_test: (1794,)\n"
     ]
    }
   ],
   "source": [
    "# Zobrazenie tvaru (počtu riadkov a stľpcov) trénovacej množiny\n",
    "print(\"Tvar trénovacej množiny X_train:\", X_train.shape)\n",
    "print(\"Tvar trénovacej množiny y_train:\", y_train.shape)\n",
    "\n",
    "# Zobrazenie tvaru validačnej množiny\n",
    "print(\"Tvar validačnej množiny X_val:\", X_val.shape)\n",
    "print(\"Tvar validačnej množiny y_val:\", y_val.shape)\n",
    "\n",
    "# Zobrazenie tvaru testovacej množiny\n",
    "print(\"Tvar testovacej množiny X_test:\", X_test.shape)\n",
    "print(\"Tvar testovacej množiny y_test:\", y_test.shape)"
   ],
   "metadata": {
    "collapsed": false,
    "ExecuteTime": {
     "end_time": "2023-11-07T02:14:34.987340900Z",
     "start_time": "2023-11-07T02:14:34.940035400Z"
    }
   },
   "id": "ded7a154b6d5ecca"
  },
  {
   "cell_type": "code",
   "execution_count": 127,
   "outputs": [],
   "source": [
    "# Vytvorenie a nastavenie scaleru na trénovacie dáta\n",
    "scaler = MinMaxScaler()\n",
    "scaler.fit(X_train)\n",
    "\n",
    "# Normalizácia trénovacích dát\n",
    "X_train_normalized = scaler.transform(X_train)\n",
    "\n",
    "# Použitie toho istého scaleru na validačné dáta a testovacie dáta\n",
    "X_val_normalized = scaler.transform(X_val)\n",
    "X_test_normalized = scaler.transform(X_test)"
   ],
   "metadata": {
    "collapsed": false,
    "ExecuteTime": {
     "end_time": "2023-11-07T02:14:35.843158100Z",
     "start_time": "2023-11-07T02:14:35.794025900Z"
    }
   },
   "id": "26e57d9fce689233"
  },
  {
   "cell_type": "code",
   "execution_count": 128,
   "outputs": [
    {
     "name": "stdout",
     "output_type": "stream",
     "text": [
      "[[5.77910448e-02 9.59992118e-01 8.64627637e-01 ... 3.16582915e-01\n",
      "  5.51194377e-01 2.97747372e-04]\n",
      " [2.66268657e-02 2.46348531e-03 2.02318405e-01 ... 7.24623116e-02\n",
      "  2.67281908e-01 2.97471375e-04]\n",
      " [6.55522388e-02 7.91959016e-01 8.52535235e-01 ... 4.81407035e-01\n",
      "  5.01824598e-01 2.70710546e-04]\n",
      " ...\n",
      " [4.78805970e-02 3.62101334e-02 5.89171045e-01 ... 4.71356784e-01\n",
      "  5.51206803e-01 2.90332220e-04]\n",
      " [5.87462687e-02 9.83996847e-01 9.14331582e-01 ... 3.32663317e-01\n",
      "  6.00655281e-01 3.29041698e-04]\n",
      " [3.02089552e-02 5.70142318e-02 5.00396130e-01 ... 1.17587940e-01\n",
      "  3.43919179e-01 2.80424810e-04]]\n",
      "[[3.59402985e-02 8.12963154e-01 7.97681595e-01 ... 2.36180905e-01\n",
      "  4.52525236e-01 4.12406240e-04]\n",
      " [5.40895522e-02 8.38968277e-01 8.65148862e-01 ... 7.90954774e-01\n",
      "  6.83277898e-01 3.06212142e-04]\n",
      " [5.30149254e-02 9.21984631e-01 8.86644150e-01 ... 3.02512563e-01\n",
      "  5.80748313e-01 3.02925551e-04]\n",
      " ...\n",
      " [5.85074627e-02 8.63973203e-01 8.42194146e-01 ... 3.86934673e-01\n",
      "  5.04798631e-01 3.21510036e-04]\n",
      " [8.39402985e-02 5.92919805e-01 8.32749562e-01 ... 2.81407035e-01\n",
      "  5.47449912e-01 2.20399357e-04]\n",
      " [2.78208955e-02 1.05823847e-01 4.82090735e-01 ... 1.30653266e-01\n",
      "  3.05708238e-01 3.05203950e-04]]\n"
     ]
    }
   ],
   "source": [
    "print(X_val_normalized)\n",
    "print(X_test_normalized)"
   ],
   "metadata": {
    "collapsed": false,
    "ExecuteTime": {
     "end_time": "2023-11-07T02:14:36.623525800Z",
     "start_time": "2023-11-07T02:14:36.578159900Z"
    }
   },
   "id": "bb567527be7dc3bf"
  },
  {
   "cell_type": "markdown",
   "source": [],
   "metadata": {
    "collapsed": false
   },
   "id": "8dadd0efb37cd044"
  },
  {
   "cell_type": "code",
   "execution_count": 129,
   "outputs": [
    {
     "name": "stdout",
     "output_type": "stream",
     "text": [
      "84\n"
     ]
    }
   ],
   "source": [
    "y = y_train.isnull().sum()\n",
    "print(y)"
   ],
   "metadata": {
    "collapsed": false,
    "ExecuteTime": {
     "end_time": "2023-11-07T02:14:39.041927800Z",
     "start_time": "2023-11-07T02:14:39.011439Z"
    }
   },
   "id": "b9b22f2f17c23a6d"
  },
  {
   "cell_type": "code",
   "execution_count": 130,
   "outputs": [],
   "source": [
    "from sklearn.impute import SimpleImputer\n",
    "\n",
    "imputer = SimpleImputer(strategy='most_frequent')\n",
    "y_train_imputed = imputer.fit_transform(y_train.values.reshape(-1, 1))\n"
   ],
   "metadata": {
    "collapsed": false,
    "ExecuteTime": {
     "end_time": "2023-11-07T02:14:39.786042600Z",
     "start_time": "2023-11-07T02:14:39.764864100Z"
    }
   },
   "id": "f6e72df4da0f7685"
  },
  {
   "cell_type": "code",
   "execution_count": 131,
   "outputs": [
    {
     "name": "stdout",
     "output_type": "stream",
     "text": [
      "Počet chýbajúcich hodnôt: 0\n"
     ]
    }
   ],
   "source": [
    "import numpy as np\n",
    "\n",
    "# Kontrola chýbajúcich hodnôt v NumPy poli\n",
    "missing_values = np.isnan(y_train_imputed).sum()\n",
    "print(\"Počet chýbajúcich hodnôt:\", missing_values)"
   ],
   "metadata": {
    "collapsed": false,
    "ExecuteTime": {
     "end_time": "2023-11-07T02:14:40.426221700Z",
     "start_time": "2023-11-07T02:14:40.396684100Z"
    }
   },
   "id": "3fa24ccf38b6ccf"
  },
  {
   "cell_type": "code",
   "execution_count": 132,
   "outputs": [
    {
     "ename": "ValueError",
     "evalue": "Input y contains NaN.",
     "output_type": "error",
     "traceback": [
      "\u001B[1;31m---------------------------------------------------------------------------\u001B[0m",
      "\u001B[1;31mValueError\u001B[0m                                Traceback (most recent call last)",
      "Cell \u001B[1;32mIn[132], line 5\u001B[0m\n\u001B[0;32m      2\u001B[0m model \u001B[38;5;241m=\u001B[39m MLPClassifier(hidden_layer_sizes\u001B[38;5;241m=\u001B[39m(\u001B[38;5;241m100\u001B[39m, ), activation\u001B[38;5;241m=\u001B[39m\u001B[38;5;124m'\u001B[39m\u001B[38;5;124mrelu\u001B[39m\u001B[38;5;124m'\u001B[39m, solver\u001B[38;5;241m=\u001B[39m\u001B[38;5;124m'\u001B[39m\u001B[38;5;124madam\u001B[39m\u001B[38;5;124m'\u001B[39m, max_iter\u001B[38;5;241m=\u001B[39m\u001B[38;5;241m1000\u001B[39m, random_state\u001B[38;5;241m=\u001B[39m\u001B[38;5;241m42\u001B[39m)\n\u001B[0;32m      4\u001B[0m \u001B[38;5;66;03m# Trénovanie modelu na trénovacích dátach\u001B[39;00m\n\u001B[1;32m----> 5\u001B[0m \u001B[43mmodel\u001B[49m\u001B[38;5;241;43m.\u001B[39;49m\u001B[43mfit\u001B[49m\u001B[43m(\u001B[49m\u001B[43mX_train_normalized\u001B[49m\u001B[43m,\u001B[49m\u001B[43m \u001B[49m\u001B[43my_train\u001B[49m\u001B[43m)\u001B[49m\n\u001B[0;32m      7\u001B[0m \u001B[38;5;66;03m# Predikcia na validačných dátach\u001B[39;00m\n\u001B[0;32m      8\u001B[0m y_val_pred \u001B[38;5;241m=\u001B[39m model\u001B[38;5;241m.\u001B[39mpredict(X_val_normalized)\n",
      "File \u001B[1;32m~\\Desktop\\Vyska - skripta\\ING\\4.rocnik\\zimny semester\\SUNS\\SUNS-zadanie-1\\venv\\Lib\\site-packages\\sklearn\\base.py:1152\u001B[0m, in \u001B[0;36m_fit_context.<locals>.decorator.<locals>.wrapper\u001B[1;34m(estimator, *args, **kwargs)\u001B[0m\n\u001B[0;32m   1145\u001B[0m     estimator\u001B[38;5;241m.\u001B[39m_validate_params()\n\u001B[0;32m   1147\u001B[0m \u001B[38;5;28;01mwith\u001B[39;00m config_context(\n\u001B[0;32m   1148\u001B[0m     skip_parameter_validation\u001B[38;5;241m=\u001B[39m(\n\u001B[0;32m   1149\u001B[0m         prefer_skip_nested_validation \u001B[38;5;129;01mor\u001B[39;00m global_skip_validation\n\u001B[0;32m   1150\u001B[0m     )\n\u001B[0;32m   1151\u001B[0m ):\n\u001B[1;32m-> 1152\u001B[0m     \u001B[38;5;28;01mreturn\u001B[39;00m \u001B[43mfit_method\u001B[49m\u001B[43m(\u001B[49m\u001B[43mestimator\u001B[49m\u001B[43m,\u001B[49m\u001B[43m \u001B[49m\u001B[38;5;241;43m*\u001B[39;49m\u001B[43margs\u001B[49m\u001B[43m,\u001B[49m\u001B[43m \u001B[49m\u001B[38;5;241;43m*\u001B[39;49m\u001B[38;5;241;43m*\u001B[39;49m\u001B[43mkwargs\u001B[49m\u001B[43m)\u001B[49m\n",
      "File \u001B[1;32m~\\Desktop\\Vyska - skripta\\ING\\4.rocnik\\zimny semester\\SUNS\\SUNS-zadanie-1\\venv\\Lib\\site-packages\\sklearn\\neural_network\\_multilayer_perceptron.py:753\u001B[0m, in \u001B[0;36mBaseMultilayerPerceptron.fit\u001B[1;34m(self, X, y)\u001B[0m\n\u001B[0;32m    735\u001B[0m \u001B[38;5;129m@_fit_context\u001B[39m(prefer_skip_nested_validation\u001B[38;5;241m=\u001B[39m\u001B[38;5;28;01mTrue\u001B[39;00m)\n\u001B[0;32m    736\u001B[0m \u001B[38;5;28;01mdef\u001B[39;00m \u001B[38;5;21mfit\u001B[39m(\u001B[38;5;28mself\u001B[39m, X, y):\n\u001B[0;32m    737\u001B[0m \u001B[38;5;250m    \u001B[39m\u001B[38;5;124;03m\"\"\"Fit the model to data matrix X and target(s) y.\u001B[39;00m\n\u001B[0;32m    738\u001B[0m \n\u001B[0;32m    739\u001B[0m \u001B[38;5;124;03m    Parameters\u001B[39;00m\n\u001B[1;32m   (...)\u001B[0m\n\u001B[0;32m    751\u001B[0m \u001B[38;5;124;03m        Returns a trained MLP model.\u001B[39;00m\n\u001B[0;32m    752\u001B[0m \u001B[38;5;124;03m    \"\"\"\u001B[39;00m\n\u001B[1;32m--> 753\u001B[0m     \u001B[38;5;28;01mreturn\u001B[39;00m \u001B[38;5;28;43mself\u001B[39;49m\u001B[38;5;241;43m.\u001B[39;49m\u001B[43m_fit\u001B[49m\u001B[43m(\u001B[49m\u001B[43mX\u001B[49m\u001B[43m,\u001B[49m\u001B[43m \u001B[49m\u001B[43my\u001B[49m\u001B[43m,\u001B[49m\u001B[43m \u001B[49m\u001B[43mincremental\u001B[49m\u001B[38;5;241;43m=\u001B[39;49m\u001B[38;5;28;43;01mFalse\u001B[39;49;00m\u001B[43m)\u001B[49m\n",
      "File \u001B[1;32m~\\Desktop\\Vyska - skripta\\ING\\4.rocnik\\zimny semester\\SUNS\\SUNS-zadanie-1\\venv\\Lib\\site-packages\\sklearn\\neural_network\\_multilayer_perceptron.py:442\u001B[0m, in \u001B[0;36mBaseMultilayerPerceptron._fit\u001B[1;34m(self, X, y, incremental)\u001B[0m\n\u001B[0;32m    435\u001B[0m     \u001B[38;5;28;01mraise\u001B[39;00m \u001B[38;5;167;01mValueError\u001B[39;00m(\n\u001B[0;32m    436\u001B[0m         \u001B[38;5;124m\"\u001B[39m\u001B[38;5;124mhidden_layer_sizes must be > 0, got \u001B[39m\u001B[38;5;132;01m%s\u001B[39;00m\u001B[38;5;124m.\u001B[39m\u001B[38;5;124m\"\u001B[39m \u001B[38;5;241m%\u001B[39m hidden_layer_sizes\n\u001B[0;32m    437\u001B[0m     )\n\u001B[0;32m    438\u001B[0m first_pass \u001B[38;5;241m=\u001B[39m \u001B[38;5;129;01mnot\u001B[39;00m \u001B[38;5;28mhasattr\u001B[39m(\u001B[38;5;28mself\u001B[39m, \u001B[38;5;124m\"\u001B[39m\u001B[38;5;124mcoefs_\u001B[39m\u001B[38;5;124m\"\u001B[39m) \u001B[38;5;129;01mor\u001B[39;00m (\n\u001B[0;32m    439\u001B[0m     \u001B[38;5;129;01mnot\u001B[39;00m \u001B[38;5;28mself\u001B[39m\u001B[38;5;241m.\u001B[39mwarm_start \u001B[38;5;129;01mand\u001B[39;00m \u001B[38;5;129;01mnot\u001B[39;00m incremental\n\u001B[0;32m    440\u001B[0m )\n\u001B[1;32m--> 442\u001B[0m X, y \u001B[38;5;241m=\u001B[39m \u001B[38;5;28;43mself\u001B[39;49m\u001B[38;5;241;43m.\u001B[39;49m\u001B[43m_validate_input\u001B[49m\u001B[43m(\u001B[49m\u001B[43mX\u001B[49m\u001B[43m,\u001B[49m\u001B[43m \u001B[49m\u001B[43my\u001B[49m\u001B[43m,\u001B[49m\u001B[43m \u001B[49m\u001B[43mincremental\u001B[49m\u001B[43m,\u001B[49m\u001B[43m \u001B[49m\u001B[43mreset\u001B[49m\u001B[38;5;241;43m=\u001B[39;49m\u001B[43mfirst_pass\u001B[49m\u001B[43m)\u001B[49m\n\u001B[0;32m    444\u001B[0m n_samples, n_features \u001B[38;5;241m=\u001B[39m X\u001B[38;5;241m.\u001B[39mshape\n\u001B[0;32m    446\u001B[0m \u001B[38;5;66;03m# Ensure y is 2D\u001B[39;00m\n",
      "File \u001B[1;32m~\\Desktop\\Vyska - skripta\\ING\\4.rocnik\\zimny semester\\SUNS\\SUNS-zadanie-1\\venv\\Lib\\site-packages\\sklearn\\neural_network\\_multilayer_perceptron.py:1093\u001B[0m, in \u001B[0;36mMLPClassifier._validate_input\u001B[1;34m(self, X, y, incremental, reset)\u001B[0m\n\u001B[0;32m   1092\u001B[0m \u001B[38;5;28;01mdef\u001B[39;00m \u001B[38;5;21m_validate_input\u001B[39m(\u001B[38;5;28mself\u001B[39m, X, y, incremental, reset):\n\u001B[1;32m-> 1093\u001B[0m     X, y \u001B[38;5;241m=\u001B[39m \u001B[38;5;28;43mself\u001B[39;49m\u001B[38;5;241;43m.\u001B[39;49m\u001B[43m_validate_data\u001B[49m\u001B[43m(\u001B[49m\n\u001B[0;32m   1094\u001B[0m \u001B[43m        \u001B[49m\u001B[43mX\u001B[49m\u001B[43m,\u001B[49m\n\u001B[0;32m   1095\u001B[0m \u001B[43m        \u001B[49m\u001B[43my\u001B[49m\u001B[43m,\u001B[49m\n\u001B[0;32m   1096\u001B[0m \u001B[43m        \u001B[49m\u001B[43maccept_sparse\u001B[49m\u001B[38;5;241;43m=\u001B[39;49m\u001B[43m[\u001B[49m\u001B[38;5;124;43m\"\u001B[39;49m\u001B[38;5;124;43mcsr\u001B[39;49m\u001B[38;5;124;43m\"\u001B[39;49m\u001B[43m,\u001B[49m\u001B[43m \u001B[49m\u001B[38;5;124;43m\"\u001B[39;49m\u001B[38;5;124;43mcsc\u001B[39;49m\u001B[38;5;124;43m\"\u001B[39;49m\u001B[43m]\u001B[49m\u001B[43m,\u001B[49m\n\u001B[0;32m   1097\u001B[0m \u001B[43m        \u001B[49m\u001B[43mmulti_output\u001B[49m\u001B[38;5;241;43m=\u001B[39;49m\u001B[38;5;28;43;01mTrue\u001B[39;49;00m\u001B[43m,\u001B[49m\n\u001B[0;32m   1098\u001B[0m \u001B[43m        \u001B[49m\u001B[43mdtype\u001B[49m\u001B[38;5;241;43m=\u001B[39;49m\u001B[43m(\u001B[49m\u001B[43mnp\u001B[49m\u001B[38;5;241;43m.\u001B[39;49m\u001B[43mfloat64\u001B[49m\u001B[43m,\u001B[49m\u001B[43m \u001B[49m\u001B[43mnp\u001B[49m\u001B[38;5;241;43m.\u001B[39;49m\u001B[43mfloat32\u001B[49m\u001B[43m)\u001B[49m\u001B[43m,\u001B[49m\n\u001B[0;32m   1099\u001B[0m \u001B[43m        \u001B[49m\u001B[43mreset\u001B[49m\u001B[38;5;241;43m=\u001B[39;49m\u001B[43mreset\u001B[49m\u001B[43m,\u001B[49m\n\u001B[0;32m   1100\u001B[0m \u001B[43m    \u001B[49m\u001B[43m)\u001B[49m\n\u001B[0;32m   1101\u001B[0m     \u001B[38;5;28;01mif\u001B[39;00m y\u001B[38;5;241m.\u001B[39mndim \u001B[38;5;241m==\u001B[39m \u001B[38;5;241m2\u001B[39m \u001B[38;5;129;01mand\u001B[39;00m y\u001B[38;5;241m.\u001B[39mshape[\u001B[38;5;241m1\u001B[39m] \u001B[38;5;241m==\u001B[39m \u001B[38;5;241m1\u001B[39m:\n\u001B[0;32m   1102\u001B[0m         y \u001B[38;5;241m=\u001B[39m column_or_1d(y, warn\u001B[38;5;241m=\u001B[39m\u001B[38;5;28;01mTrue\u001B[39;00m)\n",
      "File \u001B[1;32m~\\Desktop\\Vyska - skripta\\ING\\4.rocnik\\zimny semester\\SUNS\\SUNS-zadanie-1\\venv\\Lib\\site-packages\\sklearn\\base.py:622\u001B[0m, in \u001B[0;36mBaseEstimator._validate_data\u001B[1;34m(self, X, y, reset, validate_separately, cast_to_ndarray, **check_params)\u001B[0m\n\u001B[0;32m    620\u001B[0m         y \u001B[38;5;241m=\u001B[39m check_array(y, input_name\u001B[38;5;241m=\u001B[39m\u001B[38;5;124m\"\u001B[39m\u001B[38;5;124my\u001B[39m\u001B[38;5;124m\"\u001B[39m, \u001B[38;5;241m*\u001B[39m\u001B[38;5;241m*\u001B[39mcheck_y_params)\n\u001B[0;32m    621\u001B[0m     \u001B[38;5;28;01melse\u001B[39;00m:\n\u001B[1;32m--> 622\u001B[0m         X, y \u001B[38;5;241m=\u001B[39m \u001B[43mcheck_X_y\u001B[49m\u001B[43m(\u001B[49m\u001B[43mX\u001B[49m\u001B[43m,\u001B[49m\u001B[43m \u001B[49m\u001B[43my\u001B[49m\u001B[43m,\u001B[49m\u001B[43m \u001B[49m\u001B[38;5;241;43m*\u001B[39;49m\u001B[38;5;241;43m*\u001B[39;49m\u001B[43mcheck_params\u001B[49m\u001B[43m)\u001B[49m\n\u001B[0;32m    623\u001B[0m     out \u001B[38;5;241m=\u001B[39m X, y\n\u001B[0;32m    625\u001B[0m \u001B[38;5;28;01mif\u001B[39;00m \u001B[38;5;129;01mnot\u001B[39;00m no_val_X \u001B[38;5;129;01mand\u001B[39;00m check_params\u001B[38;5;241m.\u001B[39mget(\u001B[38;5;124m\"\u001B[39m\u001B[38;5;124mensure_2d\u001B[39m\u001B[38;5;124m\"\u001B[39m, \u001B[38;5;28;01mTrue\u001B[39;00m):\n",
      "File \u001B[1;32m~\\Desktop\\Vyska - skripta\\ING\\4.rocnik\\zimny semester\\SUNS\\SUNS-zadanie-1\\venv\\Lib\\site-packages\\sklearn\\utils\\validation.py:1162\u001B[0m, in \u001B[0;36mcheck_X_y\u001B[1;34m(X, y, accept_sparse, accept_large_sparse, dtype, order, copy, force_all_finite, ensure_2d, allow_nd, multi_output, ensure_min_samples, ensure_min_features, y_numeric, estimator)\u001B[0m\n\u001B[0;32m   1142\u001B[0m     \u001B[38;5;28;01mraise\u001B[39;00m \u001B[38;5;167;01mValueError\u001B[39;00m(\n\u001B[0;32m   1143\u001B[0m         \u001B[38;5;124mf\u001B[39m\u001B[38;5;124m\"\u001B[39m\u001B[38;5;132;01m{\u001B[39;00mestimator_name\u001B[38;5;132;01m}\u001B[39;00m\u001B[38;5;124m requires y to be passed, but the target y is None\u001B[39m\u001B[38;5;124m\"\u001B[39m\n\u001B[0;32m   1144\u001B[0m     )\n\u001B[0;32m   1146\u001B[0m X \u001B[38;5;241m=\u001B[39m check_array(\n\u001B[0;32m   1147\u001B[0m     X,\n\u001B[0;32m   1148\u001B[0m     accept_sparse\u001B[38;5;241m=\u001B[39maccept_sparse,\n\u001B[1;32m   (...)\u001B[0m\n\u001B[0;32m   1159\u001B[0m     input_name\u001B[38;5;241m=\u001B[39m\u001B[38;5;124m\"\u001B[39m\u001B[38;5;124mX\u001B[39m\u001B[38;5;124m\"\u001B[39m,\n\u001B[0;32m   1160\u001B[0m )\n\u001B[1;32m-> 1162\u001B[0m y \u001B[38;5;241m=\u001B[39m \u001B[43m_check_y\u001B[49m\u001B[43m(\u001B[49m\u001B[43my\u001B[49m\u001B[43m,\u001B[49m\u001B[43m \u001B[49m\u001B[43mmulti_output\u001B[49m\u001B[38;5;241;43m=\u001B[39;49m\u001B[43mmulti_output\u001B[49m\u001B[43m,\u001B[49m\u001B[43m \u001B[49m\u001B[43my_numeric\u001B[49m\u001B[38;5;241;43m=\u001B[39;49m\u001B[43my_numeric\u001B[49m\u001B[43m,\u001B[49m\u001B[43m \u001B[49m\u001B[43mestimator\u001B[49m\u001B[38;5;241;43m=\u001B[39;49m\u001B[43mestimator\u001B[49m\u001B[43m)\u001B[49m\n\u001B[0;32m   1164\u001B[0m check_consistent_length(X, y)\n\u001B[0;32m   1166\u001B[0m \u001B[38;5;28;01mreturn\u001B[39;00m X, y\n",
      "File \u001B[1;32m~\\Desktop\\Vyska - skripta\\ING\\4.rocnik\\zimny semester\\SUNS\\SUNS-zadanie-1\\venv\\Lib\\site-packages\\sklearn\\utils\\validation.py:1172\u001B[0m, in \u001B[0;36m_check_y\u001B[1;34m(y, multi_output, y_numeric, estimator)\u001B[0m\n\u001B[0;32m   1170\u001B[0m \u001B[38;5;250m\u001B[39m\u001B[38;5;124;03m\"\"\"Isolated part of check_X_y dedicated to y validation\"\"\"\u001B[39;00m\n\u001B[0;32m   1171\u001B[0m \u001B[38;5;28;01mif\u001B[39;00m multi_output:\n\u001B[1;32m-> 1172\u001B[0m     y \u001B[38;5;241m=\u001B[39m \u001B[43mcheck_array\u001B[49m\u001B[43m(\u001B[49m\n\u001B[0;32m   1173\u001B[0m \u001B[43m        \u001B[49m\u001B[43my\u001B[49m\u001B[43m,\u001B[49m\n\u001B[0;32m   1174\u001B[0m \u001B[43m        \u001B[49m\u001B[43maccept_sparse\u001B[49m\u001B[38;5;241;43m=\u001B[39;49m\u001B[38;5;124;43m\"\u001B[39;49m\u001B[38;5;124;43mcsr\u001B[39;49m\u001B[38;5;124;43m\"\u001B[39;49m\u001B[43m,\u001B[49m\n\u001B[0;32m   1175\u001B[0m \u001B[43m        \u001B[49m\u001B[43mforce_all_finite\u001B[49m\u001B[38;5;241;43m=\u001B[39;49m\u001B[38;5;28;43;01mTrue\u001B[39;49;00m\u001B[43m,\u001B[49m\n\u001B[0;32m   1176\u001B[0m \u001B[43m        \u001B[49m\u001B[43mensure_2d\u001B[49m\u001B[38;5;241;43m=\u001B[39;49m\u001B[38;5;28;43;01mFalse\u001B[39;49;00m\u001B[43m,\u001B[49m\n\u001B[0;32m   1177\u001B[0m \u001B[43m        \u001B[49m\u001B[43mdtype\u001B[49m\u001B[38;5;241;43m=\u001B[39;49m\u001B[38;5;28;43;01mNone\u001B[39;49;00m\u001B[43m,\u001B[49m\n\u001B[0;32m   1178\u001B[0m \u001B[43m        \u001B[49m\u001B[43minput_name\u001B[49m\u001B[38;5;241;43m=\u001B[39;49m\u001B[38;5;124;43m\"\u001B[39;49m\u001B[38;5;124;43my\u001B[39;49m\u001B[38;5;124;43m\"\u001B[39;49m\u001B[43m,\u001B[49m\n\u001B[0;32m   1179\u001B[0m \u001B[43m        \u001B[49m\u001B[43mestimator\u001B[49m\u001B[38;5;241;43m=\u001B[39;49m\u001B[43mestimator\u001B[49m\u001B[43m,\u001B[49m\n\u001B[0;32m   1180\u001B[0m \u001B[43m    \u001B[49m\u001B[43m)\u001B[49m\n\u001B[0;32m   1181\u001B[0m \u001B[38;5;28;01melse\u001B[39;00m:\n\u001B[0;32m   1182\u001B[0m     estimator_name \u001B[38;5;241m=\u001B[39m _check_estimator_name(estimator)\n",
      "File \u001B[1;32m~\\Desktop\\Vyska - skripta\\ING\\4.rocnik\\zimny semester\\SUNS\\SUNS-zadanie-1\\venv\\Lib\\site-packages\\sklearn\\utils\\validation.py:957\u001B[0m, in \u001B[0;36mcheck_array\u001B[1;34m(array, accept_sparse, accept_large_sparse, dtype, order, copy, force_all_finite, ensure_2d, allow_nd, ensure_min_samples, ensure_min_features, estimator, input_name)\u001B[0m\n\u001B[0;32m    951\u001B[0m         \u001B[38;5;28;01mraise\u001B[39;00m \u001B[38;5;167;01mValueError\u001B[39;00m(\n\u001B[0;32m    952\u001B[0m             \u001B[38;5;124m\"\u001B[39m\u001B[38;5;124mFound array with dim \u001B[39m\u001B[38;5;132;01m%d\u001B[39;00m\u001B[38;5;124m. \u001B[39m\u001B[38;5;132;01m%s\u001B[39;00m\u001B[38;5;124m expected <= 2.\u001B[39m\u001B[38;5;124m\"\u001B[39m\n\u001B[0;32m    953\u001B[0m             \u001B[38;5;241m%\u001B[39m (array\u001B[38;5;241m.\u001B[39mndim, estimator_name)\n\u001B[0;32m    954\u001B[0m         )\n\u001B[0;32m    956\u001B[0m     \u001B[38;5;28;01mif\u001B[39;00m force_all_finite:\n\u001B[1;32m--> 957\u001B[0m         \u001B[43m_assert_all_finite\u001B[49m\u001B[43m(\u001B[49m\n\u001B[0;32m    958\u001B[0m \u001B[43m            \u001B[49m\u001B[43marray\u001B[49m\u001B[43m,\u001B[49m\n\u001B[0;32m    959\u001B[0m \u001B[43m            \u001B[49m\u001B[43minput_name\u001B[49m\u001B[38;5;241;43m=\u001B[39;49m\u001B[43minput_name\u001B[49m\u001B[43m,\u001B[49m\n\u001B[0;32m    960\u001B[0m \u001B[43m            \u001B[49m\u001B[43mestimator_name\u001B[49m\u001B[38;5;241;43m=\u001B[39;49m\u001B[43mestimator_name\u001B[49m\u001B[43m,\u001B[49m\n\u001B[0;32m    961\u001B[0m \u001B[43m            \u001B[49m\u001B[43mallow_nan\u001B[49m\u001B[38;5;241;43m=\u001B[39;49m\u001B[43mforce_all_finite\u001B[49m\u001B[43m \u001B[49m\u001B[38;5;241;43m==\u001B[39;49m\u001B[43m \u001B[49m\u001B[38;5;124;43m\"\u001B[39;49m\u001B[38;5;124;43mallow-nan\u001B[39;49m\u001B[38;5;124;43m\"\u001B[39;49m\u001B[43m,\u001B[49m\n\u001B[0;32m    962\u001B[0m \u001B[43m        \u001B[49m\u001B[43m)\u001B[49m\n\u001B[0;32m    964\u001B[0m \u001B[38;5;28;01mif\u001B[39;00m ensure_min_samples \u001B[38;5;241m>\u001B[39m \u001B[38;5;241m0\u001B[39m:\n\u001B[0;32m    965\u001B[0m     n_samples \u001B[38;5;241m=\u001B[39m _num_samples(array)\n",
      "File \u001B[1;32m~\\Desktop\\Vyska - skripta\\ING\\4.rocnik\\zimny semester\\SUNS\\SUNS-zadanie-1\\venv\\Lib\\site-packages\\sklearn\\utils\\validation.py:122\u001B[0m, in \u001B[0;36m_assert_all_finite\u001B[1;34m(X, allow_nan, msg_dtype, estimator_name, input_name)\u001B[0m\n\u001B[0;32m    119\u001B[0m \u001B[38;5;28;01mif\u001B[39;00m first_pass_isfinite:\n\u001B[0;32m    120\u001B[0m     \u001B[38;5;28;01mreturn\u001B[39;00m\n\u001B[1;32m--> 122\u001B[0m \u001B[43m_assert_all_finite_element_wise\u001B[49m\u001B[43m(\u001B[49m\n\u001B[0;32m    123\u001B[0m \u001B[43m    \u001B[49m\u001B[43mX\u001B[49m\u001B[43m,\u001B[49m\n\u001B[0;32m    124\u001B[0m \u001B[43m    \u001B[49m\u001B[43mxp\u001B[49m\u001B[38;5;241;43m=\u001B[39;49m\u001B[43mxp\u001B[49m\u001B[43m,\u001B[49m\n\u001B[0;32m    125\u001B[0m \u001B[43m    \u001B[49m\u001B[43mallow_nan\u001B[49m\u001B[38;5;241;43m=\u001B[39;49m\u001B[43mallow_nan\u001B[49m\u001B[43m,\u001B[49m\n\u001B[0;32m    126\u001B[0m \u001B[43m    \u001B[49m\u001B[43mmsg_dtype\u001B[49m\u001B[38;5;241;43m=\u001B[39;49m\u001B[43mmsg_dtype\u001B[49m\u001B[43m,\u001B[49m\n\u001B[0;32m    127\u001B[0m \u001B[43m    \u001B[49m\u001B[43mestimator_name\u001B[49m\u001B[38;5;241;43m=\u001B[39;49m\u001B[43mestimator_name\u001B[49m\u001B[43m,\u001B[49m\n\u001B[0;32m    128\u001B[0m \u001B[43m    \u001B[49m\u001B[43minput_name\u001B[49m\u001B[38;5;241;43m=\u001B[39;49m\u001B[43minput_name\u001B[49m\u001B[43m,\u001B[49m\n\u001B[0;32m    129\u001B[0m \u001B[43m\u001B[49m\u001B[43m)\u001B[49m\n",
      "File \u001B[1;32m~\\Desktop\\Vyska - skripta\\ING\\4.rocnik\\zimny semester\\SUNS\\SUNS-zadanie-1\\venv\\Lib\\site-packages\\sklearn\\utils\\validation.py:171\u001B[0m, in \u001B[0;36m_assert_all_finite_element_wise\u001B[1;34m(X, xp, allow_nan, msg_dtype, estimator_name, input_name)\u001B[0m\n\u001B[0;32m    154\u001B[0m \u001B[38;5;28;01mif\u001B[39;00m estimator_name \u001B[38;5;129;01mand\u001B[39;00m input_name \u001B[38;5;241m==\u001B[39m \u001B[38;5;124m\"\u001B[39m\u001B[38;5;124mX\u001B[39m\u001B[38;5;124m\"\u001B[39m \u001B[38;5;129;01mand\u001B[39;00m has_nan_error:\n\u001B[0;32m    155\u001B[0m     \u001B[38;5;66;03m# Improve the error message on how to handle missing values in\u001B[39;00m\n\u001B[0;32m    156\u001B[0m     \u001B[38;5;66;03m# scikit-learn.\u001B[39;00m\n\u001B[0;32m    157\u001B[0m     msg_err \u001B[38;5;241m+\u001B[39m\u001B[38;5;241m=\u001B[39m (\n\u001B[0;32m    158\u001B[0m         \u001B[38;5;124mf\u001B[39m\u001B[38;5;124m\"\u001B[39m\u001B[38;5;130;01m\\n\u001B[39;00m\u001B[38;5;132;01m{\u001B[39;00mestimator_name\u001B[38;5;132;01m}\u001B[39;00m\u001B[38;5;124m does not accept missing values\u001B[39m\u001B[38;5;124m\"\u001B[39m\n\u001B[0;32m    159\u001B[0m         \u001B[38;5;124m\"\u001B[39m\u001B[38;5;124m encoded as NaN natively. For supervised learning, you might want\u001B[39m\u001B[38;5;124m\"\u001B[39m\n\u001B[1;32m   (...)\u001B[0m\n\u001B[0;32m    169\u001B[0m         \u001B[38;5;124m\"\u001B[39m\u001B[38;5;124m#estimators-that-handle-nan-values\u001B[39m\u001B[38;5;124m\"\u001B[39m\n\u001B[0;32m    170\u001B[0m     )\n\u001B[1;32m--> 171\u001B[0m \u001B[38;5;28;01mraise\u001B[39;00m \u001B[38;5;167;01mValueError\u001B[39;00m(msg_err)\n",
      "\u001B[1;31mValueError\u001B[0m: Input y contains NaN."
     ]
    }
   ],
   "source": [
    "# Vytvorenie a nastavenie jednoduchej neurónovej siete pre klasifikáciu\n",
    "model = MLPClassifier(hidden_layer_sizes=(100, ), activation='relu', solver='adam', max_iter=1000, random_state=42)\n",
    "\n",
    "# Trénovanie modelu na trénovacích dátach\n",
    "model.fit(X_train_normalized, y_train)\n",
    "\n",
    "# Predikcia na validačných dátach\n",
    "y_val_pred = model.predict(X_val_normalized)"
   ],
   "metadata": {
    "collapsed": false,
    "ExecuteTime": {
     "end_time": "2023-11-07T02:14:41.653158500Z",
     "start_time": "2023-11-07T02:14:41.443200Z"
    }
   },
   "id": "d3eecbb19d299719"
  },
  {
   "cell_type": "code",
   "execution_count": null,
   "outputs": [],
   "source": [],
   "metadata": {
    "collapsed": false
   },
   "id": "89a4bd001b1a21c2"
  }
 ],
 "metadata": {
  "kernelspec": {
   "display_name": "Python 3 (ipykernel)",
   "language": "python",
   "name": "python3"
  },
  "language_info": {
   "codemirror_mode": {
    "name": "ipython",
    "version": 3
   },
   "file_extension": ".py",
   "mimetype": "text/x-python",
   "name": "python",
   "nbconvert_exporter": "python",
   "pygments_lexer": "ipython3",
   "version": "3.11.0"
  }
 },
 "nbformat": 4,
 "nbformat_minor": 5
}
